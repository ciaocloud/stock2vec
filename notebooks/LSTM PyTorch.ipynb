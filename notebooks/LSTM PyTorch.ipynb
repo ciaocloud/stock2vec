{
 "cells": [
  {
   "cell_type": "code",
   "execution_count": 1,
   "metadata": {},
   "outputs": [],
   "source": [
    "import numpy as np\n",
    "import pandas as pd\n",
    "pd.options.display.max_columns = None\n",
    "pd.options.display.max_rows = None\n",
    "\n",
    "import matplotlib.pyplot as plt\n",
    "%matplotlib inline\n",
    "\n",
    "import datetime as dt\n",
    "import pickle\n",
    "import os\n",
    "import time\n",
    "\n",
    "import seaborn as sns\n",
    "sns.set()\n",
    "from matplotlib import style\n",
    "# style.use('ggplot')\n",
    "%load_ext autoreload\n",
    "%autoreload 2"
   ]
  },
  {
   "cell_type": "markdown",
   "metadata": {},
   "source": [
    "# Pure LSTM for Time Series Only"
   ]
  },
  {
   "cell_type": "code",
   "execution_count": 2,
   "metadata": {},
   "outputs": [
    {
     "name": "stdout",
     "output_type": "stream",
     "text": [
      "(498414, 128) (60412, 128) (498414, 1) (60412, 1)\n"
     ]
    }
   ],
   "source": [
    "train_arrs, test_arrs = [], []\n",
    "\n",
    "arr_names = [\"Xhist\", \"y\", \"dateticker\"]\n",
    "\n",
    "for arr_name in arr_names:\n",
    "    fname = 'data/temporal_data/' + arr_name + \"Train.npy\"\n",
    "    train_arrs.append(np.load(fname, allow_pickle=True))\n",
    "    fname = 'data/temporal_data/' + arr_name + \"Test.npy\"\n",
    "    test_arrs.append(np.load(fname, allow_pickle=True))\n",
    "    \n",
    "XseqTrain, yTrain, datetickerTrain = train_arrs\n",
    "XseqTest, yTest, datetickerTest = test_arrs\n",
    "\n",
    "print(XseqTrain.shape, XseqTest.shape, yTrain.shape, yTest.shape)"
   ]
  },
  {
   "cell_type": "code",
   "execution_count": 3,
   "metadata": {},
   "outputs": [],
   "source": [
    "import torch\n",
    "import lstm_torch as lstm\n",
    "from torch.utils.data import DataLoader, TensorDataset\n",
    "bs = 64\n",
    "timesteps = 50\n",
    "\n",
    "# train_ds = SeqDataset(XseqTrain, yTrain, timesteps)\n",
    "# test_ds = SeqDataset(XseqTest, yTest, timesteps)\n",
    "\n",
    "\n",
    "x_train = torch.from_numpy(XseqTrain[:, -timesteps:, np.newaxis]).type(torch.Tensor)\n",
    "x_test = torch.from_numpy(XseqTest[:, -timesteps:, np.newaxis]).type(torch.Tensor)\n",
    "y_train = torch.from_numpy(yTrain.astype(np.float)).type(torch.Tensor)\n",
    "y_test = torch.from_numpy(yTest.astype(np.float)).type(torch.Tensor)\n",
    "\n",
    "train_ds = TensorDataset(x_train, y_train)\n",
    "test_ds = TensorDataset(x_test, y_test)\n",
    "\n",
    "\n",
    "train_dl = DataLoader(train_ds, bs, shuffle=True)\n",
    "val_dl = DataLoader(test_ds, bs, shuffle=True)\n",
    "\n",
    "# print('x_train.shape = ',x_train.shape)\n",
    "# print('y_train.shape = ',y_train.shape)\n",
    "# print('x_test.shape = ',x_test.shape)\n",
    "# print('y_test.shape = ',y_test.shape)"
   ]
  },
  {
   "cell_type": "code",
   "execution_count": 15,
   "metadata": {},
   "outputs": [
    {
     "name": "stdout",
     "output_type": "stream",
     "text": [
      "LSTM(\n",
      "  (rnn): LSTM(1, 30, num_layers=3, batch_first=True)\n",
      "  (fc): Linear(in_features=30, out_features=1, bias=True)\n",
      ")\n"
     ]
    }
   ],
   "source": [
    "model = lstm.LSTM(rnn_input_size=1, rnn_hidden_size=30, rnn_num_layers=3,\n",
    "                 rnn_output_size=1, rnn_dropout=0.)\n",
    "print(model)"
   ]
  },
  {
   "cell_type": "code",
   "execution_count": 5,
   "metadata": {},
   "outputs": [],
   "source": [
    "# print([p.numel() for p in model.parameters() if p.requires_grad])\n",
    "# print(sum(p.numel() for p in model.parameters()))"
   ]
  },
  {
   "cell_type": "code",
   "execution_count": 7,
   "metadata": {},
   "outputs": [],
   "source": [
    "# lstm.train_model(model, train_dl, #one_cycle=True,\n",
    "#             n_epochs=1, lr=1e-6, weight_decay=0.02)#, device=\"cpu\")"
   ]
  },
  {
   "cell_type": "code",
   "execution_count": 16,
   "metadata": {},
   "outputs": [
    {
     "name": "stderr",
     "output_type": "stream",
     "text": [
      "100%|██████████| 7788/7788 [01:02<00:00, 123.80it/s]\n"
     ]
    },
    {
     "name": "stdout",
     "output_type": "stream",
     "text": [
      "Epoch 1: training loss=0.00061\n"
     ]
    },
    {
     "name": "stderr",
     "output_type": "stream",
     "text": [
      "  0%|          | 10/7788 [00:00<01:21, 95.91it/s]"
     ]
    },
    {
     "name": "stdout",
     "output_type": "stream",
     "text": [
      "Epoch 1: val loss=0.00067\n"
     ]
    },
    {
     "name": "stderr",
     "output_type": "stream",
     "text": [
      "100%|██████████| 7788/7788 [01:03<00:00, 122.53it/s]\n"
     ]
    },
    {
     "name": "stdout",
     "output_type": "stream",
     "text": [
      "Epoch 2: training loss=0.00043\n",
      "Epoch 2: val loss=0.00076\n"
     ]
    }
   ],
   "source": [
    "lstm.train_model(model, train_dl, val_dl, n_epochs=2, lr=1e-3)#, weight_decay=0.02)"
   ]
  },
  {
   "cell_type": "code",
   "execution_count": 18,
   "metadata": {},
   "outputs": [
    {
     "name": "stderr",
     "output_type": "stream",
     "text": [
      "100%|██████████| 487/487 [00:07<00:00, 69.04it/s]"
     ]
    },
    {
     "name": "stdout",
     "output_type": "stream",
     "text": [
      "7.059804916381836\n"
     ]
    },
    {
     "name": "stderr",
     "output_type": "stream",
     "text": [
      "\n"
     ]
    }
   ],
   "source": [
    "t0 = time.time()\n",
    "train_preds, train_targets = lstm.predict(model, train_ds, 1024)\n",
    "print(time.time() - t0)\n",
    "# print(np.sum(train_targets[:, 0] != train_df['target_price']))"
   ]
  },
  {
   "cell_type": "code",
   "execution_count": 19,
   "metadata": {},
   "outputs": [
    {
     "name": "stderr",
     "output_type": "stream",
     "text": [
      "100%|██████████| 59/59 [00:00<00:00, 69.11it/s]\n"
     ]
    }
   ],
   "source": [
    "test_preds, test_targets = lstm.predict(model, test_ds, 1024)"
   ]
  },
  {
   "cell_type": "code",
   "execution_count": 20,
   "metadata": {},
   "outputs": [
    {
     "name": "stdout",
     "output_type": "stream",
     "text": [
      "Training metrics: {'MAE': 0.015383683, 'MAPE': inf, 'RMSE': 0.021433765, 'RMSPE': inf}\n",
      "Test metrics: {'MAE': 0.02185407, 'MAPE': inf, 'RMSE': 0.027599748, 'RMSPE': inf}\n"
     ]
    },
    {
     "name": "stderr",
     "output_type": "stream",
     "text": [
      "/home/wangxing/stock_forecast/src/utils.py:82: RuntimeWarning: divide by zero encountered in true_divide\n",
      "  return np.mean(np.abs(y_hat-y) / y) * 100\n",
      "/home/wangxing/stock_forecast/src/utils.py:89: RuntimeWarning: divide by zero encountered in true_divide\n",
      "  return np.sqrt(np.mean(((y - y_hat) / y) ** 2))\n"
     ]
    }
   ],
   "source": [
    "import src.utils as utils\n",
    "\n",
    "train_scores = utils.scores(train_targets, train_preds)\n",
    "print('Training metrics:', train_scores)\n",
    "test_scores = utils.scores(test_targets, test_preds)\n",
    "print('Test metrics:', test_scores)"
   ]
  },
  {
   "cell_type": "code",
   "execution_count": 24,
   "metadata": {},
   "outputs": [
    {
     "data": {
      "text/html": [
       "<div>\n",
       "<style scoped>\n",
       "    .dataframe tbody tr th:only-of-type {\n",
       "        vertical-align: middle;\n",
       "    }\n",
       "\n",
       "    .dataframe tbody tr th {\n",
       "        vertical-align: top;\n",
       "    }\n",
       "\n",
       "    .dataframe thead th {\n",
       "        text-align: right;\n",
       "    }\n",
       "</style>\n",
       "<table border=\"1\" class=\"dataframe\">\n",
       "  <thead>\n",
       "    <tr style=\"text-align: right;\">\n",
       "      <th></th>\n",
       "      <th>Date</th>\n",
       "      <th>ticker</th>\n",
       "      <th>target_price</th>\n",
       "      <th>lstm_pred</th>\n",
       "    </tr>\n",
       "  </thead>\n",
       "  <tbody>\n",
       "    <tr>\n",
       "      <th>60407</th>\n",
       "      <td>2020-02-07</td>\n",
       "      <td>ZTS</td>\n",
       "      <td>0.977593</td>\n",
       "      <td>0.912055</td>\n",
       "    </tr>\n",
       "    <tr>\n",
       "      <th>60408</th>\n",
       "      <td>2020-02-10</td>\n",
       "      <td>ZTS</td>\n",
       "      <td>0.991468</td>\n",
       "      <td>0.941574</td>\n",
       "    </tr>\n",
       "    <tr>\n",
       "      <th>60409</th>\n",
       "      <td>2020-02-11</td>\n",
       "      <td>ZTS</td>\n",
       "      <td>0.981624</td>\n",
       "      <td>0.950292</td>\n",
       "    </tr>\n",
       "    <tr>\n",
       "      <th>60410</th>\n",
       "      <td>2020-02-12</td>\n",
       "      <td>ZTS</td>\n",
       "      <td>1.000000</td>\n",
       "      <td>0.944048</td>\n",
       "    </tr>\n",
       "    <tr>\n",
       "      <th>60411</th>\n",
       "      <td>2020-02-13</td>\n",
       "      <td>ZTS</td>\n",
       "      <td>0.992781</td>\n",
       "      <td>0.959658</td>\n",
       "    </tr>\n",
       "  </tbody>\n",
       "</table>\n",
       "</div>"
      ],
      "text/plain": [
       "            Date ticker  target_price  lstm_pred\n",
       "60407 2020-02-07    ZTS      0.977593   0.912055\n",
       "60408 2020-02-10    ZTS      0.991468   0.941574\n",
       "60409 2020-02-11    ZTS      0.981624   0.950292\n",
       "60410 2020-02-12    ZTS      1.000000   0.944048\n",
       "60411 2020-02-13    ZTS      0.992781   0.959658"
      ]
     },
     "execution_count": 24,
     "metadata": {},
     "output_type": "execute_result"
    }
   ],
   "source": [
    "df_pred_test = pd.DataFrame(datetickerTest, columns=['Date', 'ticker'])\n",
    "df_pred_test['target_price'] = test_targets\n",
    "df_pred_test['lstm_pred'] = test_preds\n",
    "\n",
    "df_pred_test.to_csv('Results/lstm_test_preds.csv', index=False)\n",
    "df_pred_test.tail()"
   ]
  },
  {
   "cell_type": "code",
   "execution_count": 23,
   "metadata": {},
   "outputs": [
    {
     "data": {
      "image/png": "[encoded data removed]",
      "text/plain": [
       "<Figure size 1440x576 with 1 Axes>"
      ]
     },
     "metadata": {},
     "output_type": "display_data"
    }
   ],
   "source": [
    "ticker = 'AMZN'\n",
    "idx = df_pred_test[df_pred_test.ticker==ticker].index\n",
    "y_plot_pred = df_pred_test.iloc[idx]['lstm_pred'].values\n",
    "y_plot_real = df_pred_test.iloc[idx]['target_price'].values\n",
    "\n",
    "n = len(y_plot_real)\n",
    "fig, ax = plt.subplots(1,1, figsize=(20,8))\n",
    "x_plot = np.arange(n)\n",
    "plt.plot(x_plot, y_plot_real, color=\"green\")\n",
    "plt.scatter(x_plot, y_plot_real, c=\"green\", label=\"Real\")\n",
    "plt.plot(x_plot, y_plot_pred, color=\"red\")\n",
    "plt.scatter(x_plot, y_plot_pred, c=\"red\", label=\"Prediction\")\n",
    "plt.title(\"Real vs Prediction\")\n",
    "plt.xlabel(\"Time\")\n",
    "plt.ylabel(\"Price $\")\n",
    "plt.legend()\n",
    "plt.show()"
   ]
  },
  {
   "cell_type": "code",
   "execution_count": 15,
   "metadata": {},
   "outputs": [],
   "source": [
    "# PATH = './models/ts_lstm.mod'\n",
    "# torch.save(model.state_dict(), PATH)"
   ]
  },
  {
   "cell_type": "markdown",
   "metadata": {},
   "source": [
    "Pure LSTM for Time Series done here\n",
    "\n",
    "# Hybrid LSTM"
   ]
  },
  {
   "cell_type": "code",
   "execution_count": 95,
   "metadata": {},
   "outputs": [
    {
     "name": "stdout",
     "output_type": "stream",
     "text": [
      "<class 'pandas.core.frame.DataFrame'>\n",
      "RangeIndex: 621391 entries, 0 to 621390\n",
      "Data columns (total 32 columns):\n",
      " #   Column                     Non-Null Count   Dtype         \n",
      "---  ------                     --------------   -----         \n",
      " 0   Date                       621391 non-null  datetime64[ns]\n",
      " 1   Adj Close                  621391 non-null  float64       \n",
      " 2   volume_obv                 621391 non-null  float64       \n",
      " 3   volume_fi                  621391 non-null  float64       \n",
      " 4   volatility_bbm             621391 non-null  float64       \n",
      " 5   volatility_bbw             621391 non-null  float64       \n",
      " 6   volatility_bbhi            621391 non-null  float64       \n",
      " 7   volatility_bbli            621391 non-null  float64       \n",
      " 8   trend_macd                 621391 non-null  float64       \n",
      " 9   trend_macd_signal          621391 non-null  float64       \n",
      " 10  trend_macd_diff            621391 non-null  float64       \n",
      " 11  trend_psar_up_indicator    621391 non-null  float64       \n",
      " 12  trend_psar_down_indicator  621391 non-null  float64       \n",
      " 13  momentum_ao                621391 non-null  float64       \n",
      " 14  momentum_roc               621391 non-null  float64       \n",
      " 15  ticker                     621391 non-null  object        \n",
      " 16  sector                     621391 non-null  object        \n",
      " 17  industry                   621391 non-null  object        \n",
      " 18  Year                       621391 non-null  int64         \n",
      " 19  Month                      621391 non-null  int64         \n",
      " 20  Week                       621391 non-null  int64         \n",
      " 21  Day                        621391 non-null  int64         \n",
      " 22  Dayofweek                  621391 non-null  int64         \n",
      " 23  Dayofyear                  621391 non-null  float64       \n",
      " 24  Is_month_end               621391 non-null  bool          \n",
      " 25  Is_month_start             621391 non-null  bool          \n",
      " 26  Is_quarter_end             621391 non-null  bool          \n",
      " 27  Is_quarter_start           621391 non-null  bool          \n",
      " 28  Is_year_end                621391 non-null  bool          \n",
      " 29  Is_year_start              621391 non-null  bool          \n",
      " 30  Elapsed                    621391 non-null  float64       \n",
      " 31  target_price               621391 non-null  float64       \n",
      "dtypes: bool(6), datetime64[ns](1), float64(17), int64(5), object(3)\n",
      "memory usage: 126.8+ MB\n"
     ]
    }
   ],
   "source": [
    "df = pd.read_csv('data_scaled.csv')\n",
    "# df = df.drop(columns=[\"Return\"])\n",
    "df['Date'] = pd.to_datetime(df['Date'])\n",
    "df.info()"
   ]
  },
  {
   "cell_type": "code",
   "execution_count": 96,
   "metadata": {},
   "outputs": [
    {
     "name": "stdout",
     "output_type": "stream",
     "text": [
      "18 Categorical Features:\n",
      "['volatility_bbhi', 'volatility_bbli', 'trend_psar_up_indicator', 'trend_psar_down_indicator', 'ticker', 'sector', 'industry', 'Year', 'Month', 'Week', 'Day', 'Dayofweek', 'Is_month_end', 'Is_month_start', 'Is_quarter_end', 'Is_quarter_start', 'Is_year_end', 'Is_year_start']\n",
      "12 Continuous Features:\n",
      "['Adj Close', 'volume_obv', 'volume_fi', 'volatility_bbm', 'volatility_bbw', 'trend_macd', 'trend_macd_signal', 'trend_macd_diff', 'momentum_ao', 'momentum_roc', 'Dayofyear', 'Elapsed']\n"
     ]
    }
   ],
   "source": [
    "# def cat_cont_split(df, maxcard=55, omit_vars=['Date', 'Adj Close', 'Return', 'target_price']):\n",
    "def cat_cont_split(df, maxcard=55, omit_vars=['Date', 'target_price']):\n",
    "    \"\"\"Helper function that returns column names of categorical & continuous features from df.\"\"\"\n",
    "    cat_feats, cont_feats = [], []\n",
    "    for col in df:\n",
    "        if col in omit_vars: \n",
    "            continue\n",
    "        if (df[col].dtype==int or df[col].dtype==float) and df[col].unique().shape[0] > maxcard:\n",
    "            cont_feats.append(col)\n",
    "        else:\n",
    "            cat_feats.append(col)\n",
    "    return cat_feats, cont_feats\n",
    "    \n",
    "cat_vars, cont_vars = cat_cont_split(df)\n",
    "print(len(cat_vars), 'Categorical Features:')\n",
    "print(cat_vars)\n",
    "print(len(cont_vars), 'Continuous Features:')\n",
    "print(cont_vars)"
   ]
  },
  {
   "cell_type": "code",
   "execution_count": 97,
   "metadata": {},
   "outputs": [
    {
     "name": "stdout",
     "output_type": "stream",
     "text": [
      "<class 'pandas.core.frame.DataFrame'>\n",
      "RangeIndex: 621391 entries, 0 to 621390\n",
      "Data columns (total 32 columns):\n",
      " #   Column                     Non-Null Count   Dtype         \n",
      "---  ------                     --------------   -----         \n",
      " 0   Date                       621391 non-null  datetime64[ns]\n",
      " 1   Adj Close                  621391 non-null  float64       \n",
      " 2   volume_obv                 621391 non-null  float64       \n",
      " 3   volume_fi                  621391 non-null  float64       \n",
      " 4   volatility_bbm             621391 non-null  float64       \n",
      " 5   volatility_bbw             621391 non-null  float64       \n",
      " 6   volatility_bbhi            621391 non-null  category      \n",
      " 7   volatility_bbli            621391 non-null  category      \n",
      " 8   trend_macd                 621391 non-null  float64       \n",
      " 9   trend_macd_signal          621391 non-null  float64       \n",
      " 10  trend_macd_diff            621391 non-null  float64       \n",
      " 11  trend_psar_up_indicator    621391 non-null  category      \n",
      " 12  trend_psar_down_indicator  621391 non-null  category      \n",
      " 13  momentum_ao                621391 non-null  float64       \n",
      " 14  momentum_roc               621391 non-null  float64       \n",
      " 15  ticker                     621391 non-null  category      \n",
      " 16  sector                     621391 non-null  category      \n",
      " 17  industry                   621391 non-null  category      \n",
      " 18  Year                       621391 non-null  category      \n",
      " 19  Month                      621391 non-null  category      \n",
      " 20  Week                       621391 non-null  category      \n",
      " 21  Day                        621391 non-null  category      \n",
      " 22  Dayofweek                  621391 non-null  category      \n",
      " 23  Dayofyear                  621391 non-null  float64       \n",
      " 24  Is_month_end               621391 non-null  category      \n",
      " 25  Is_month_start             621391 non-null  category      \n",
      " 26  Is_quarter_end             621391 non-null  category      \n",
      " 27  Is_quarter_start           621391 non-null  category      \n",
      " 28  Is_year_end                621391 non-null  category      \n",
      " 29  Is_year_start              621391 non-null  category      \n",
      " 30  Elapsed                    621391 non-null  float64       \n",
      " 31  target_price               621391 non-null  float64       \n",
      "dtypes: category(18), datetime64[ns](1), float64(13)\n",
      "memory usage: 77.7 MB\n"
     ]
    }
   ],
   "source": [
    "class Categorifier:\n",
    "    ''' Transform categorical features into category types '''\n",
    "    def apply_train(self, df, cat_vars):\n",
    "        self.cat_vars = cat_vars\n",
    "        self.categories = {}\n",
    "        for v in self.cat_vars:\n",
    "            df.loc[:, v] = df.loc[:, v].astype('category').cat.as_ordered()\n",
    "            self.categories[v] = df[v].cat.categories\n",
    "            \n",
    "    def apply_test(self, df_test):\n",
    "        for v in self.cat_vars:\n",
    "            df_test.loc[:, v] = pd.Categorical(df[v], categories=self.categories[v], ordered=True)\n",
    "\n",
    "cat = Categorifier()\n",
    "cat.apply_train(df, cat_vars)\n",
    "df.info()"
   ]
  },
  {
   "cell_type": "code",
   "execution_count": 98,
   "metadata": {},
   "outputs": [],
   "source": [
    "dep_var = 'target_price'\n",
    "cont_vars = cont_vars\n",
    "cat_sz = [(nc, len(df[nc].cat.categories)+1) for nc in cat_vars]\n",
    "# emb_szs = [(nc, min(50, (nc+1)//2)) for _, nc in cat_sz]\n",
    "emb_szs = [(nc, min(51, round(1.6*nc**0.56))) for _, nc in cat_sz]"
   ]
  },
  {
   "cell_type": "code",
   "execution_count": 99,
   "metadata": {},
   "outputs": [
    {
     "data": {
      "text/plain": [
       "['Adj Close',\n",
       " 'volume_obv',\n",
       " 'volume_fi',\n",
       " 'volatility_bbm',\n",
       " 'volatility_bbw',\n",
       " 'trend_macd',\n",
       " 'trend_macd_signal',\n",
       " 'trend_macd_diff',\n",
       " 'momentum_ao',\n",
       " 'momentum_roc',\n",
       " 'Dayofyear',\n",
       " 'Elapsed']"
      ]
     },
     "execution_count": 99,
     "metadata": {},
     "output_type": "execute_result"
    }
   ],
   "source": [
    "cont_vars"
   ]
  },
  {
   "cell_type": "code",
   "execution_count": 100,
   "metadata": {},
   "outputs": [
    {
     "name": "stdout",
     "output_type": "stream",
     "text": [
      "(498414, 128) (60412, 128) (498414, 1) (60412, 1)\n"
     ]
    }
   ],
   "source": [
    "train_arrs, test_arrs = [], []\n",
    "\n",
    "arr_names = [\"Xhist\", \"Xcat\", \"Xcont\", \"y\", \"dateticker\"]\n",
    "\n",
    "for arr_name in arr_names:\n",
    "    fname = 'data/temporal_data/' + arr_name + \"Train.npy\"\n",
    "    train_arrs.append(np.load(fname, allow_pickle=True))\n",
    "    fname = 'data/temporal_data/' + arr_name + \"Test.npy\"\n",
    "    test_arrs.append(np.load(fname, allow_pickle=True))\n",
    "    \n",
    "XseqTrain, XcatTrain, XcontTrain, yTrain, datetickerTrain = train_arrs\n",
    "XseqTest, XcatTest, XcontTest, yTest, datetickerTest = test_arrs\n",
    "\n",
    "print(XseqTrain.shape, XseqTest.shape, yTrain.shape, yTest.shape)"
   ]
  },
  {
   "cell_type": "code",
   "execution_count": 101,
   "metadata": {},
   "outputs": [
    {
     "name": "stdout",
     "output_type": "stream",
     "text": [
      "(498414, 12) (60412, 12)\n"
     ]
    }
   ],
   "source": [
    "print(XcontTrain.shape, XcontTest.shape)"
   ]
  },
  {
   "cell_type": "code",
   "execution_count": 102,
   "metadata": {},
   "outputs": [
    {
     "data": {
      "text/plain": [
       "(558826, 1)"
      ]
     },
     "execution_count": 102,
     "metadata": {},
     "output_type": "execute_result"
    }
   ],
   "source": [
    "np.vstack([yTrain, yTest]).shape"
   ]
  },
  {
   "cell_type": "code",
   "execution_count": 103,
   "metadata": {},
   "outputs": [],
   "source": [
    "import hybrid_lstm\n",
    "from torch.utils.data import DataLoader\n",
    "bs = 64\n",
    "timesteps = 50\n",
    "\n",
    "train_ds = hybrid_lstm.HybridDataset(XcatTrain, XcontTrain, XseqTrain, yTrain, timesteps)\n",
    "train_ds = hybrid_lstm.HybridDataset(np.vstack([XcatTrain, XcatTest]), \n",
    "                                     np.vstack([XcontTrain, XcontTest]),\n",
    "                                     np.vstack([XseqTrain, XseqTest]),\n",
    "                                     np.vstack([yTrain,yTest]), timesteps)\n",
    "\n",
    "test_ds = hybrid_lstm.HybridDataset(XcatTest, XcontTest, XseqTest, yTest, timesteps)\n",
    "\n",
    "train_dl = DataLoader(train_ds, bs, shuffle=True)\n",
    "val_dl = DataLoader(test_ds, 1024, shuffle=True)"
   ]
  },
  {
   "cell_type": "code",
   "execution_count": 104,
   "metadata": {},
   "outputs": [
    {
     "name": "stdout",
     "output_type": "stream",
     "text": [
      "LSTMHybrid(\n",
      "  (rnn): LSTM(1, 30, num_layers=3, batch_first=True)\n",
      "  (fc_rnn): Linear(in_features=30, out_features=20, bias=True)\n",
      "  (embeds): ModuleList(\n",
      "    (0): Embedding(3, 3)\n",
      "    (1): Embedding(3, 3)\n",
      "    (2): Embedding(3, 3)\n",
      "    (3): Embedding(3, 3)\n",
      "    (4): Embedding(486, 51)\n",
      "    (5): Embedding(13, 7)\n",
      "    (6): Embedding(105, 22)\n",
      "    (7): Embedding(7, 5)\n",
      "    (8): Embedding(13, 7)\n",
      "    (9): Embedding(54, 15)\n",
      "    (10): Embedding(32, 11)\n",
      "    (11): Embedding(6, 4)\n",
      "    (12): Embedding(3, 3)\n",
      "    (13): Embedding(3, 3)\n",
      "    (14): Embedding(3, 3)\n",
      "    (15): Embedding(3, 3)\n",
      "    (16): Embedding(3, 3)\n",
      "    (17): Embedding(2, 2)\n",
      "  )\n",
      "  (emb_dropout): Dropout(p=0.1, inplace=False)\n",
      "  (bn_cont): BatchNorm1d(12, eps=1e-05, momentum=0.1, affine=True, track_running_stats=True)\n",
      "  (fc_layers): Sequential(\n",
      "    (0): Linear(in_features=183, out_features=1024, bias=True)\n",
      "    (1): ReLU(inplace=True)\n",
      "    (2): BatchNorm1d(1024, eps=1e-05, momentum=0.1, affine=True, track_running_stats=True)\n",
      "    (3): Dropout(p=0.001, inplace=False)\n",
      "    (4): Linear(in_features=1024, out_features=512, bias=True)\n",
      "    (5): ReLU(inplace=True)\n",
      "    (6): BatchNorm1d(512, eps=1e-05, momentum=0.1, affine=True, track_running_stats=True)\n",
      "    (7): Dropout(p=0.01, inplace=False)\n",
      "    (8): Linear(in_features=512, out_features=1, bias=True)\n",
      "  )\n",
      ")\n"
     ]
    }
   ],
   "source": [
    "model_lstm = hybrid_lstm.LSTMHybrid(emb_szs, len(cont_vars), hidden_sizes=[1024, 512], \n",
    "                emb_dropout = 0.1, dropout_prob = [0.001, .01], use_bn=True,\n",
    "                rnn_input_size=1, rnn_hidden_size=30, rnn_num_layers=3,\n",
    "                rnn_output_size=20, rnn_dropout=0.)\n",
    "print(model_lstm)"
   ]
  },
  {
   "cell_type": "code",
   "execution_count": 105,
   "metadata": {},
   "outputs": [
    {
     "name": "stderr",
     "output_type": "stream",
     "text": [
      "100%|██████████| 8732/8732 [02:02<00:00, 71.57it/s]\n"
     ]
    },
    {
     "name": "stdout",
     "output_type": "stream",
     "text": [
      "Epoch 1: training loss=0.01829\n"
     ]
    },
    {
     "name": "stderr",
     "output_type": "stream",
     "text": [
      "  0%|          | 4/8732 [00:00<03:44, 38.89it/s]"
     ]
    },
    {
     "name": "stdout",
     "output_type": "stream",
     "text": [
      "Epoch 1: val loss=0.00129\n"
     ]
    },
    {
     "name": "stderr",
     "output_type": "stream",
     "text": [
      "100%|██████████| 8732/8732 [02:02<00:00, 71.08it/s]\n"
     ]
    },
    {
     "name": "stdout",
     "output_type": "stream",
     "text": [
      "Epoch 2: training loss=0.00220\n",
      "Epoch 2: val loss=0.00057\n"
     ]
    }
   ],
   "source": [
    "hybrid_lstm.train_model(model_lstm, train_dl, val_dl, \n",
    "            n_epochs=2, lr=1e-3)"
   ]
  },
  {
   "cell_type": "code",
   "execution_count": 112,
   "metadata": {},
   "outputs": [
    {
     "name": "stderr",
     "output_type": "stream",
     "text": [
      "100%|██████████| 59/59 [00:02<00:00, 26.44it/s]\n",
      "  5%|▌         | 3/59 [00:00<00:02, 26.22it/s]"
     ]
    },
    {
     "name": "stdout",
     "output_type": "stream",
     "text": [
      "Epoch 1: training loss=0.00650\n"
     ]
    },
    {
     "name": "stderr",
     "output_type": "stream",
     "text": [
      "100%|██████████| 59/59 [00:02<00:00, 26.78it/s]\n",
      "  5%|▌         | 3/59 [00:00<00:02, 26.54it/s]"
     ]
    },
    {
     "name": "stdout",
     "output_type": "stream",
     "text": [
      "Epoch 2: training loss=0.00076\n"
     ]
    },
    {
     "name": "stderr",
     "output_type": "stream",
     "text": [
      "100%|██████████| 59/59 [00:02<00:00, 25.75it/s]\n",
      "  5%|▌         | 3/59 [00:00<00:02, 25.47it/s]"
     ]
    },
    {
     "name": "stdout",
     "output_type": "stream",
     "text": [
      "Epoch 3: training loss=0.00069\n"
     ]
    },
    {
     "name": "stderr",
     "output_type": "stream",
     "text": [
      "100%|██████████| 59/59 [00:02<00:00, 25.45it/s]\n",
      "  5%|▌         | 3/59 [00:00<00:02, 23.21it/s]"
     ]
    },
    {
     "name": "stdout",
     "output_type": "stream",
     "text": [
      "Epoch 4: training loss=0.00069\n"
     ]
    },
    {
     "name": "stderr",
     "output_type": "stream",
     "text": [
      "100%|██████████| 59/59 [00:02<00:00, 25.90it/s]\n",
      "  5%|▌         | 3/59 [00:00<00:02, 23.45it/s]"
     ]
    },
    {
     "name": "stdout",
     "output_type": "stream",
     "text": [
      "Epoch 5: training loss=0.00067\n"
     ]
    },
    {
     "name": "stderr",
     "output_type": "stream",
     "text": [
      "100%|██████████| 59/59 [00:02<00:00, 25.23it/s]\n",
      "  5%|▌         | 3/59 [00:00<00:02, 24.88it/s]"
     ]
    },
    {
     "name": "stdout",
     "output_type": "stream",
     "text": [
      "Epoch 6: training loss=0.00061\n"
     ]
    },
    {
     "name": "stderr",
     "output_type": "stream",
     "text": [
      "100%|██████████| 59/59 [00:02<00:00, 25.83it/s]\n",
      "  5%|▌         | 3/59 [00:00<00:02, 26.84it/s]"
     ]
    },
    {
     "name": "stdout",
     "output_type": "stream",
     "text": [
      "Epoch 7: training loss=0.00067\n"
     ]
    },
    {
     "name": "stderr",
     "output_type": "stream",
     "text": [
      "100%|██████████| 59/59 [00:02<00:00, 26.26it/s]\n",
      "  5%|▌         | 3/59 [00:00<00:02, 26.07it/s]"
     ]
    },
    {
     "name": "stdout",
     "output_type": "stream",
     "text": [
      "Epoch 8: training loss=0.00062\n"
     ]
    },
    {
     "name": "stderr",
     "output_type": "stream",
     "text": [
      "100%|██████████| 59/59 [00:02<00:00, 27.28it/s]\n",
      "  5%|▌         | 3/59 [00:00<00:02, 26.29it/s]"
     ]
    },
    {
     "name": "stdout",
     "output_type": "stream",
     "text": [
      "Epoch 9: training loss=0.00063\n"
     ]
    },
    {
     "name": "stderr",
     "output_type": "stream",
     "text": [
      "100%|██████████| 59/59 [00:02<00:00, 27.47it/s]"
     ]
    },
    {
     "name": "stdout",
     "output_type": "stream",
     "text": [
      "Epoch 10: training loss=0.00068\n"
     ]
    },
    {
     "name": "stderr",
     "output_type": "stream",
     "text": [
      "\n"
     ]
    }
   ],
   "source": [
    "hybrid_lstm.train_model(model_lstm, val_dl, n_epochs=10, lr=1e-3)"
   ]
  },
  {
   "cell_type": "code",
   "execution_count": 123,
   "metadata": {},
   "outputs": [
    {
     "name": "stderr",
     "output_type": "stream",
     "text": [
      "100%|██████████| 118/118 [00:01<00:00, 83.84it/s]\n"
     ]
    }
   ],
   "source": [
    "train_preds, train_targets = hybrid_lstm.predict(model_lstm, train_ds, 512)\n",
    "test_preds, test_targets = hybrid_lstm.predict(model_lstm, test_ds, 512)"
   ]
  },
  {
   "cell_type": "code",
   "execution_count": 125,
   "metadata": {},
   "outputs": [
    {
     "data": {
      "image/png": "[encoded data removed]",
      "text/plain": [
       "<Figure size 1440x576 with 1 Axes>"
      ]
     },
     "metadata": {},
     "output_type": "display_data"
    }
   ],
   "source": [
    "df_pred_test = pd.DataFrame(datetickerTest, columns=['Date', 'ticker'])\n",
    "df_pred_test['target_price'] = test_targets\n",
    "df_pred_test['lstm'] = test_preds\n",
    "# df_pred_test.head()\n",
    "\n",
    "ticker = 'AMZN'\n",
    "idx = df_pred_test[df_pred_test.ticker==ticker].index\n",
    "y_plot_pred = df_pred_test.iloc[idx]['lstm'].values\n",
    "y_plot_real = df_pred_test.iloc[idx]['target_price'].values\n",
    "\n",
    "n = len(y_plot_real)\n",
    "fig, ax = plt.subplots(1,1, figsize=(20,8))\n",
    "x_plot = np.arange(n)\n",
    "plt.plot(x_plot, y_plot_real, color=\"green\")\n",
    "plt.scatter(x_plot, y_plot_real, c=\"green\", label=\"Real\")\n",
    "plt.plot(x_plot, y_plot_pred, color=\"red\")\n",
    "plt.scatter(x_plot, y_plot_pred, c=\"red\", label=\"Prediction\")\n",
    "plt.title(\"Real vs Prediction\")\n",
    "plt.xlabel(\"Time\")\n",
    "plt.ylabel(\"Price $\")\n",
    "plt.legend()\n",
    "plt.show()"
   ]
  },
  {
   "cell_type": "code",
   "execution_count": 126,
   "metadata": {},
   "outputs": [
    {
     "data": {
      "text/html": [
       "<div>\n",
       "<style scoped>\n",
       "    .dataframe tbody tr th:only-of-type {\n",
       "        vertical-align: middle;\n",
       "    }\n",
       "\n",
       "    .dataframe tbody tr th {\n",
       "        vertical-align: top;\n",
       "    }\n",
       "\n",
       "    .dataframe thead th {\n",
       "        text-align: right;\n",
       "    }\n",
       "</style>\n",
       "<table border=\"1\" class=\"dataframe\">\n",
       "  <thead>\n",
       "    <tr style=\"text-align: right;\">\n",
       "      <th></th>\n",
       "      <th>Date</th>\n",
       "      <th>ticker</th>\n",
       "      <th>target_price</th>\n",
       "      <th>rs2v_pred</th>\n",
       "    </tr>\n",
       "  </thead>\n",
       "  <tbody>\n",
       "    <tr>\n",
       "      <th>60407</th>\n",
       "      <td>2020-02-07</td>\n",
       "      <td>ZTS</td>\n",
       "      <td>0.977593</td>\n",
       "      <td>0.962557</td>\n",
       "    </tr>\n",
       "    <tr>\n",
       "      <th>60408</th>\n",
       "      <td>2020-02-10</td>\n",
       "      <td>ZTS</td>\n",
       "      <td>0.991468</td>\n",
       "      <td>0.991075</td>\n",
       "    </tr>\n",
       "    <tr>\n",
       "      <th>60409</th>\n",
       "      <td>2020-02-11</td>\n",
       "      <td>ZTS</td>\n",
       "      <td>0.981624</td>\n",
       "      <td>0.994530</td>\n",
       "    </tr>\n",
       "    <tr>\n",
       "      <th>60410</th>\n",
       "      <td>2020-02-12</td>\n",
       "      <td>ZTS</td>\n",
       "      <td>1.000000</td>\n",
       "      <td>0.993011</td>\n",
       "    </tr>\n",
       "    <tr>\n",
       "      <th>60411</th>\n",
       "      <td>2020-02-13</td>\n",
       "      <td>ZTS</td>\n",
       "      <td>0.992781</td>\n",
       "      <td>1.005925</td>\n",
       "    </tr>\n",
       "  </tbody>\n",
       "</table>\n",
       "</div>"
      ],
      "text/plain": [
       "            Date ticker  target_price  rs2v_pred\n",
       "60407 2020-02-07    ZTS      0.977593   0.962557\n",
       "60408 2020-02-10    ZTS      0.991468   0.991075\n",
       "60409 2020-02-11    ZTS      0.981624   0.994530\n",
       "60410 2020-02-12    ZTS      1.000000   0.993011\n",
       "60411 2020-02-13    ZTS      0.992781   1.005925"
      ]
     },
     "execution_count": 126,
     "metadata": {},
     "output_type": "execute_result"
    }
   ],
   "source": [
    "df_pred_test = pd.DataFrame(datetickerTest, columns=['Date', 'ticker'])\n",
    "df_pred_test['target_price'] = test_targets\n",
    "df_pred_test['rs2v_pred'] = test_preds\n",
    "\n",
    "df_pred_test.to_csv('Results/lstm_s2v_test_preds.csv', index=False)\n",
    "df_pred_test.tail()"
   ]
  },
  {
   "cell_type": "code",
   "execution_count": null,
   "metadata": {},
   "outputs": [],
   "source": []
  }
 ],
 "metadata": {
  "kernelspec": {
   "display_name": "Python 3",
   "language": "python",
   "name": "python3"
  },
  "language_info": {
   "codemirror_mode": {
    "name": "ipython",
    "version": 3
   },
   "file_extension": ".py",
   "mimetype": "text/x-python",
   "name": "python",
   "nbconvert_exporter": "python",
   "pygments_lexer": "ipython3",
   "version": "3.7.6"
  }
 },
 "nbformat": 4,
 "nbformat_minor": 4
}
