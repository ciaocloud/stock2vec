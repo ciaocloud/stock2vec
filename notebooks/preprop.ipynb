{
 "cells": [
  {
   "cell_type": "code",
   "execution_count": 1,
   "metadata": {},
   "outputs": [],
   "source": [
    "import pandas as pd"
   ]
  },
  {
   "cell_type": "code",
   "execution_count": 6,
   "metadata": {},
   "outputs": [
    {
     "data": {
      "text/html": [
       "<div>\n",
       "<style scoped>\n",
       "    .dataframe tbody tr th:only-of-type {\n",
       "        vertical-align: middle;\n",
       "    }\n",
       "\n",
       "    .dataframe tbody tr th {\n",
       "        vertical-align: top;\n",
       "    }\n",
       "\n",
       "    .dataframe thead th {\n",
       "        text-align: right;\n",
       "    }\n",
       "</style>\n",
       "<table border=\"1\" class=\"dataframe\">\n",
       "  <thead>\n",
       "    <tr style=\"text-align: right;\">\n",
       "      <th></th>\n",
       "      <th>ticker</th>\n",
       "      <th>exchange</th>\n",
       "      <th>name</th>\n",
       "      <th>sector</th>\n",
       "      <th>industry</th>\n",
       "    </tr>\n",
       "  </thead>\n",
       "  <tbody>\n",
       "    <tr>\n",
       "      <th>0</th>\n",
       "      <td>PIH</td>\n",
       "      <td>NASDAQ</td>\n",
       "      <td>1347 PROPERTY INSURANCE HOLDINGS, INC.</td>\n",
       "      <td>FINANCE</td>\n",
       "      <td>PROPERTY-CASUALTY INSURERS</td>\n",
       "    </tr>\n",
       "    <tr>\n",
       "      <th>1</th>\n",
       "      <td>PIHPP</td>\n",
       "      <td>NASDAQ</td>\n",
       "      <td>1347 PROPERTY INSURANCE HOLDINGS, INC.</td>\n",
       "      <td>FINANCE</td>\n",
       "      <td>PROPERTY-CASUALTY INSURERS</td>\n",
       "    </tr>\n",
       "    <tr>\n",
       "      <th>2</th>\n",
       "      <td>TURN</td>\n",
       "      <td>NASDAQ</td>\n",
       "      <td>180 DEGREE CAPITAL CORP.</td>\n",
       "      <td>FINANCE</td>\n",
       "      <td>FINANCE/INVESTORS SERVICES</td>\n",
       "    </tr>\n",
       "    <tr>\n",
       "      <th>3</th>\n",
       "      <td>FLWS</td>\n",
       "      <td>NASDAQ</td>\n",
       "      <td>1-800 FLOWERS.COM, INC.</td>\n",
       "      <td>CONSUMER SERVICES</td>\n",
       "      <td>OTHER SPECIALTY STORES</td>\n",
       "    </tr>\n",
       "    <tr>\n",
       "      <th>4</th>\n",
       "      <td>FCCY</td>\n",
       "      <td>NASDAQ</td>\n",
       "      <td>1ST CONSTITUTION BANCORP (NJ)</td>\n",
       "      <td>FINANCE</td>\n",
       "      <td>SAVINGS INSTITUTIONS</td>\n",
       "    </tr>\n",
       "    <tr>\n",
       "      <th>...</th>\n",
       "      <td>...</td>\n",
       "      <td>...</td>\n",
       "      <td>...</td>\n",
       "      <td>...</td>\n",
       "      <td>...</td>\n",
       "    </tr>\n",
       "    <tr>\n",
       "      <th>6455</th>\n",
       "      <td>ZOES</td>\n",
       "      <td>NYSE</td>\n",
       "      <td>ZOE&amp;#39;S KITCHEN, INC.</td>\n",
       "      <td>CONSUMER SERVICES</td>\n",
       "      <td>RESTAURANTS</td>\n",
       "    </tr>\n",
       "    <tr>\n",
       "      <th>6456</th>\n",
       "      <td>ZTS</td>\n",
       "      <td>NYSE</td>\n",
       "      <td>ZOETIS INC.</td>\n",
       "      <td>HEALTH CARE</td>\n",
       "      <td>MAJOR PHARMACEUTICALS</td>\n",
       "    </tr>\n",
       "    <tr>\n",
       "      <th>6457</th>\n",
       "      <td>ZTO</td>\n",
       "      <td>NYSE</td>\n",
       "      <td>ZTO EXPRESS (CAYMAN) INC.</td>\n",
       "      <td>TRANSPORTATION</td>\n",
       "      <td>TRUCKING FREIGHT/COURIER SERVICES</td>\n",
       "    </tr>\n",
       "    <tr>\n",
       "      <th>6458</th>\n",
       "      <td>ZUO</td>\n",
       "      <td>NYSE</td>\n",
       "      <td>ZUORA, INC.</td>\n",
       "      <td>TECHNOLOGY</td>\n",
       "      <td>COMPUTER SOFTWARE: PREPACKAGED SOFTWARE</td>\n",
       "    </tr>\n",
       "    <tr>\n",
       "      <th>6459</th>\n",
       "      <td>ZYME</td>\n",
       "      <td>NYSE</td>\n",
       "      <td>ZYMEWORKS INC.</td>\n",
       "      <td>HEALTH CARE</td>\n",
       "      <td>MAJOR PHARMACEUTICALS</td>\n",
       "    </tr>\n",
       "  </tbody>\n",
       "</table>\n",
       "<p>6460 rows × 5 columns</p>\n",
       "</div>"
      ],
      "text/plain": [
       "     ticker exchange                                    name  \\\n",
       "0       PIH   NASDAQ  1347 PROPERTY INSURANCE HOLDINGS, INC.   \n",
       "1     PIHPP   NASDAQ  1347 PROPERTY INSURANCE HOLDINGS, INC.   \n",
       "2      TURN   NASDAQ                180 DEGREE CAPITAL CORP.   \n",
       "3      FLWS   NASDAQ                 1-800 FLOWERS.COM, INC.   \n",
       "4      FCCY   NASDAQ           1ST CONSTITUTION BANCORP (NJ)   \n",
       "...     ...      ...                                     ...   \n",
       "6455   ZOES     NYSE                 ZOE&#39;S KITCHEN, INC.   \n",
       "6456    ZTS     NYSE                             ZOETIS INC.   \n",
       "6457    ZTO     NYSE               ZTO EXPRESS (CAYMAN) INC.   \n",
       "6458    ZUO     NYSE                             ZUORA, INC.   \n",
       "6459   ZYME     NYSE                          ZYMEWORKS INC.   \n",
       "\n",
       "                 sector                                 industry  \n",
       "0               FINANCE               PROPERTY-CASUALTY INSURERS  \n",
       "1               FINANCE               PROPERTY-CASUALTY INSURERS  \n",
       "2               FINANCE               FINANCE/INVESTORS SERVICES  \n",
       "3     CONSUMER SERVICES                   OTHER SPECIALTY STORES  \n",
       "4               FINANCE                     SAVINGS INSTITUTIONS  \n",
       "...                 ...                                      ...  \n",
       "6455  CONSUMER SERVICES                              RESTAURANTS  \n",
       "6456        HEALTH CARE                    MAJOR PHARMACEUTICALS  \n",
       "6457     TRANSPORTATION        TRUCKING FREIGHT/COURIER SERVICES  \n",
       "6458         TECHNOLOGY  COMPUTER SOFTWARE: PREPACKAGED SOFTWARE  \n",
       "6459        HEALTH CARE                    MAJOR PHARMACEUTICALS  \n",
       "\n",
       "[6460 rows x 5 columns]"
      ]
     },
     "execution_count": 6,
     "metadata": {},
     "output_type": "execute_result"
    }
   ],
   "source": [
    "df = pd.read_csv('./data/historical_stocks.csv')\n",
    "df"
   ]
  },
  {
   "cell_type": "code",
   "execution_count": 3,
   "metadata": {},
   "outputs": [
    {
     "name": "stdout",
     "output_type": "stream",
     "text": [
      "14\n"
     ]
    },
    {
     "data": {
      "text/plain": [
       "array(['FINANCE', 'CONSUMER SERVICES', 'TECHNOLOGY', 'PUBLIC UTILITIES',\n",
       "       'CAPITAL GOODS', 'BASIC INDUSTRIES', 'HEALTH CARE',\n",
       "       'CONSUMER DURABLES', nan, 'ENERGY', 'MISCELLANEOUS', 'SECTOR',\n",
       "       'TRANSPORTATION', 'CONSUMER NON-DURABLES'], dtype=object)"
      ]
     },
     "execution_count": 3,
     "metadata": {},
     "output_type": "execute_result"
    }
   ],
   "source": [
    "sectors = df.sector.unique()\n",
    "print(len(sectors))\n",
    "sectors"
   ]
  },
  {
   "cell_type": "code",
   "execution_count": 4,
   "metadata": {},
   "outputs": [
    {
     "name": "stdout",
     "output_type": "stream",
     "text": [
      "['NASDAQ' 'NYSE']\n"
     ]
    }
   ],
   "source": [
    "exchanges = df.exchange.unique()\n",
    "print(exchanges)"
   ]
  },
  {
   "cell_type": "code",
   "execution_count": 5,
   "metadata": {},
   "outputs": [
    {
     "name": "stdout",
     "output_type": "stream",
     "text": [
      "137\n"
     ]
    },
    {
     "data": {
      "text/plain": [
       "array(['PROPERTY-CASUALTY INSURERS', 'FINANCE/INVESTORS SERVICES',\n",
       "       'OTHER SPECIALTY STORES', 'SAVINGS INSTITUTIONS', 'MAJOR BANKS',\n",
       "       'COMPUTER SOFTWARE: PROGRAMMING, DATA PROCESSING',\n",
       "       'COMPUTER SOFTWARE: PREPACKAGED SOFTWARE',\n",
       "       'DIVERSIFIED COMMERCIAL SERVICES', 'ELECTRIC UTILITIES: CENTRAL',\n",
       "       'HOMEBUILDING', 'MAJOR CHEMICALS',\n",
       "       'INDUSTRIAL MACHINERY/COMPONENTS', 'MAJOR PHARMACEUTICALS',\n",
       "       'TELECOMMUNICATIONS EQUIPMENT', 'MEDICAL/DENTAL INSTRUMENTS',\n",
       "       'BIOTECHNOLOGY: BIOLOGICAL PRODUCTS (NO DIAGNOSTIC SUBSTANCES)',\n",
       "       nan, 'OIL & GAS PRODUCTION', 'SEMICONDUCTORS',\n",
       "       'MULTI-SECTOR COMPANIES', 'MEDICAL SPECIALITIES',\n",
       "       'BIOTECHNOLOGY: LABORATORY ANALYTICAL INSTRUMENTS',\n",
       "       'OTHER PHARMACEUTICALS',\n",
       "       'BIOTECHNOLOGY: IN VITRO & IN VIVO DIAGNOSTIC SUBSTANCES',\n",
       "       'EDP SERVICES', 'MEDICAL/NURSING SERVICES',\n",
       "       'OFFICE EQUIPMENT/SUPPLIES/SERVICES', 'AUTO PARTS:O.E.M.',\n",
       "       'WATER SUPPLY', 'ELECTRICAL PRODUCTS', 'AEROSPACE', 'INDUSTRY',\n",
       "       'REAL ESTATE INVESTMENT TRUSTS', 'BUSINESS SERVICES',\n",
       "       'AIR FREIGHT/DELIVERY SERVICES',\n",
       "       'RADIO AND TELEVISION BROADCASTING AND COMMUNICATIONS EQUIPMENT',\n",
       "       'ADVERTISING', 'FARMING/SEEDS/MILLING', 'INDUSTRIAL SPECIALTIES',\n",
       "       'COAL MINING', 'SERVICES-MISC. AMUSEMENT & RECREATION',\n",
       "       'COMPUTER COMMUNICATIONS EQUIPMENT', 'OTHER CONSUMER SERVICES',\n",
       "       'CATALOG/SPECIALTY DISTRIBUTION', 'TELEVISION SERVICES',\n",
       "       'RENTAL/LEASING COMPANIES', 'FINANCE: CONSUMER SERVICES',\n",
       "       'LIFE INSURANCE', 'ORDNANCE AND ACCESSORIES', 'RAILROADS',\n",
       "       'METAL FABRICATIONS', 'FOREST PRODUCTS', 'AUTOMOTIVE AFTERMARKET',\n",
       "       'BIOTECHNOLOGY: COMMERCIAL PHYSICAL & BIOLOGICAL RESARCH', 'BANKS',\n",
       "       'PROFESSIONAL SERVICES', 'COMPUTER MANUFACTURING',\n",
       "       'HOME FURNISHINGS',\n",
       "       'BIOTECHNOLOGY: ELECTROMEDICAL & ELECTROTHERAPEUTIC APPARATUS',\n",
       "       'AGRICULTURAL CHEMICALS', 'TRUCKING FREIGHT/COURIER SERVICES',\n",
       "       'MOTOR VEHICLES', 'RESTAURANTS', 'CLOTHING/SHOE/ACCESSORY STORES',\n",
       "       'FINANCE COMPANIES', 'CONSTRUCTION/AG EQUIPMENT/TRUCKS',\n",
       "       'MILITARY/GOVERNMENT/TECHNICAL', 'COMPUTER PERIPHERAL EQUIPMENT',\n",
       "       'FOOD DISTRIBUTORS', 'TRANSPORTATION SERVICES', 'MISCELLANEOUS',\n",
       "       'ELECTRONIC COMPONENTS', 'COMMERCIAL BANKS',\n",
       "       'RETAIL: BUILDING MATERIALS', 'BROADCASTING',\n",
       "       'INVESTMENT BANKERS/BROKERS/SERVICE', 'NATURAL GAS DISTRIBUTION',\n",
       "       'REAL ESTATE', 'SPECIALTY FOODS', 'OIL REFINING/MARKETING',\n",
       "       'HOTELS/RESORTS', 'BUILDING MATERIALS',\n",
       "       'HOSPITAL/NURSING MANAGEMENT', 'INTEGRATED OIL COMPANIES',\n",
       "       'PUBLISHING', 'MARINE TRANSPORTATION', 'TEXTILES',\n",
       "       'ENVIRONMENTAL SERVICES', 'POLLUTION CONTROL EQUIPMENT',\n",
       "       'BEVERAGES (PRODUCTION/DISTRIBUTION)', 'CONSUMER SPECIALTIES',\n",
       "       'ALUMINUM', 'MEDICAL ELECTRONICS', 'APPAREL',\n",
       "       'MOVIES/ENTERTAINMENT', 'ENGINEERING & CONSTRUCTION',\n",
       "       'SPECIALTY CHEMICALS', 'DIVERSIFIED FINANCIAL SERVICES',\n",
       "       'PRECIOUS METALS', 'CONTAINERS/PACKAGING',\n",
       "       'CONSUMER ELECTRONICS/VIDEO CHAINS', 'RECREATIONAL PRODUCTS/TOYS',\n",
       "       'SPECIALTY INSURERS', 'DEPARTMENT/SPECIALTY RETAIL STORES',\n",
       "       'SHOE MANUFACTURING', 'OILFIELD SERVICES/EQUIPMENT',\n",
       "       'NEWSPAPERS/MAGAZINES', 'MISCELLANEOUS MANUFACTURING INDUSTRIES',\n",
       "       'FOOD CHAINS', 'PLASTIC PRODUCTS', 'INVESTMENT MANAGERS',\n",
       "       'BUILDING OPERATORS', 'BUILDING PRODUCTS',\n",
       "       'RETAIL: COMPUTER SOFTWARE & PERIPHERAL EQUIPMENT', 'PAPER',\n",
       "       'DIVERSIFIED ELECTRONIC PRODUCTS', 'PACKAGED FOODS',\n",
       "       'STEEL/IRON ORE', 'BOOKS', 'CONSUMER ELECTRONICS/APPLIANCES',\n",
       "       'PACKAGE GOODS/COSMETICS', 'AUTO MANUFACTURING',\n",
       "       'OPHTHALMIC GOODS', 'PRECISION INSTRUMENTS', 'MEAT/POULTRY/FISH',\n",
       "       'ACCIDENT &HEALTH INSURANCE',\n",
       "       'MINING & QUARRYING OF NONMETALLIC MINERALS (NO FUELS)',\n",
       "       'POWER GENERATION', 'FLUID CONTROLS', 'OIL/GAS TRANSMISSION',\n",
       "       'PAINTS/COATINGS', 'WHOLESALE DISTRIBUTORS',\n",
       "       'CONSUMER: GREETING CARDS', 'ELECTRONICS DISTRIBUTION',\n",
       "       'TOOLS/HARDWARE', 'TOBACCO',\n",
       "       'GENERAL BLDG CONTRACTORS - NONRESIDENTIAL BLDGS'], dtype=object)"
      ]
     },
     "execution_count": 5,
     "metadata": {},
     "output_type": "execute_result"
    }
   ],
   "source": [
    "industries = df.industry.unique()\n",
    "print(len(industries))\n",
    "industries"
   ]
  },
  {
   "cell_type": "code",
   "execution_count": 10,
   "metadata": {},
   "outputs": [
    {
     "name": "stdout",
     "output_type": "stream",
     "text": [
      "<class 'pandas.core.frame.DataFrame'>\n",
      "RangeIndex: 20973889 entries, 0 to 20973888\n",
      "Data columns (total 8 columns):\n",
      "ticker       object\n",
      "open         float64\n",
      "close        float64\n",
      "adj_close    float64\n",
      "low          float64\n",
      "high         float64\n",
      "volume       int64\n",
      "date         object\n",
      "dtypes: float64(5), int64(1), object(2)\n",
      "memory usage: 1.3+ GB\n"
     ]
    }
   ],
   "source": [
    "prices = pd.read_csv('./data/historical_stock_prices.csv')\n",
    "prices.info()"
   ]
  },
  {
   "cell_type": "code",
   "execution_count": 11,
   "metadata": {},
   "outputs": [
    {
     "data": {
      "text/html": [
       "<div>\n",
       "<style scoped>\n",
       "    .dataframe tbody tr th:only-of-type {\n",
       "        vertical-align: middle;\n",
       "    }\n",
       "\n",
       "    .dataframe tbody tr th {\n",
       "        vertical-align: top;\n",
       "    }\n",
       "\n",
       "    .dataframe thead th {\n",
       "        text-align: right;\n",
       "    }\n",
       "</style>\n",
       "<table border=\"1\" class=\"dataframe\">\n",
       "  <thead>\n",
       "    <tr style=\"text-align: right;\">\n",
       "      <th></th>\n",
       "      <th>ticker</th>\n",
       "      <th>open</th>\n",
       "      <th>close</th>\n",
       "      <th>adj_close</th>\n",
       "      <th>low</th>\n",
       "      <th>high</th>\n",
       "      <th>volume</th>\n",
       "      <th>date</th>\n",
       "    </tr>\n",
       "  </thead>\n",
       "  <tbody>\n",
       "    <tr>\n",
       "      <td>0</td>\n",
       "      <td>AHH</td>\n",
       "      <td>11.50</td>\n",
       "      <td>11.58</td>\n",
       "      <td>8.493155</td>\n",
       "      <td>11.25</td>\n",
       "      <td>11.68</td>\n",
       "      <td>4633900</td>\n",
       "      <td>2013-05-08</td>\n",
       "    </tr>\n",
       "    <tr>\n",
       "      <td>1</td>\n",
       "      <td>AHH</td>\n",
       "      <td>11.66</td>\n",
       "      <td>11.55</td>\n",
       "      <td>8.471151</td>\n",
       "      <td>11.50</td>\n",
       "      <td>11.66</td>\n",
       "      <td>275800</td>\n",
       "      <td>2013-05-09</td>\n",
       "    </tr>\n",
       "    <tr>\n",
       "      <td>2</td>\n",
       "      <td>AHH</td>\n",
       "      <td>11.55</td>\n",
       "      <td>11.60</td>\n",
       "      <td>8.507822</td>\n",
       "      <td>11.50</td>\n",
       "      <td>11.60</td>\n",
       "      <td>277100</td>\n",
       "      <td>2013-05-10</td>\n",
       "    </tr>\n",
       "    <tr>\n",
       "      <td>3</td>\n",
       "      <td>AHH</td>\n",
       "      <td>11.63</td>\n",
       "      <td>11.65</td>\n",
       "      <td>8.544494</td>\n",
       "      <td>11.55</td>\n",
       "      <td>11.65</td>\n",
       "      <td>147400</td>\n",
       "      <td>2013-05-13</td>\n",
       "    </tr>\n",
       "    <tr>\n",
       "      <td>4</td>\n",
       "      <td>AHH</td>\n",
       "      <td>11.60</td>\n",
       "      <td>11.53</td>\n",
       "      <td>8.456484</td>\n",
       "      <td>11.50</td>\n",
       "      <td>11.60</td>\n",
       "      <td>184100</td>\n",
       "      <td>2013-05-14</td>\n",
       "    </tr>\n",
       "  </tbody>\n",
       "</table>\n",
       "</div>"
      ],
      "text/plain": [
       "  ticker   open  close  adj_close    low   high   volume        date\n",
       "0    AHH  11.50  11.58   8.493155  11.25  11.68  4633900  2013-05-08\n",
       "1    AHH  11.66  11.55   8.471151  11.50  11.66   275800  2013-05-09\n",
       "2    AHH  11.55  11.60   8.507822  11.50  11.60   277100  2013-05-10\n",
       "3    AHH  11.63  11.65   8.544494  11.55  11.65   147400  2013-05-13\n",
       "4    AHH  11.60  11.53   8.456484  11.50  11.60   184100  2013-05-14"
      ]
     },
     "execution_count": 11,
     "metadata": {},
     "output_type": "execute_result"
    }
   ],
   "source": [
    "prices.head()"
   ]
  },
  {
   "cell_type": "code",
   "execution_count": 12,
   "metadata": {},
   "outputs": [
    {
     "name": "stdout",
     "output_type": "stream",
     "text": [
      "5685\n"
     ]
    }
   ],
   "source": [
    "tickers = prices.ticker.unique()\n",
    "print(len(tickers))"
   ]
  },
  {
   "cell_type": "code",
   "execution_count": 13,
   "metadata": {},
   "outputs": [
    {
     "data": {
      "text/plain": [
       "('1970-01-02', '2018-08-24')"
      ]
     },
     "execution_count": 13,
     "metadata": {},
     "output_type": "execute_result"
    }
   ],
   "source": [
    "prices.date.min(), prices.date.max()"
   ]
  },
  {
   "cell_type": "code",
   "execution_count": null,
   "metadata": {},
   "outputs": [],
   "source": []
  }
 ],
 "metadata": {
  "kernelspec": {
   "display_name": "Python 3",
   "language": "python",
   "name": "python3"
  },
  "language_info": {
   "codemirror_mode": {
    "name": "ipython",
    "version": 3
   },
   "file_extension": ".py",
   "mimetype": "text/x-python",
   "name": "python",
   "nbconvert_exporter": "python",
   "pygments_lexer": "ipython3",
   "version": "3.6.10"
  }
 },
 "nbformat": 4,
 "nbformat_minor": 2
}
