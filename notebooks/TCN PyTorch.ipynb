{
 "cells": [
  {
   "cell_type": "code",
   "execution_count": 1,
   "metadata": {},
   "outputs": [],
   "source": [
    "import numpy as np\n",
    "import pandas as pd\n",
    "pd.options.display.max_columns = None\n",
    "pd.options.display.max_rows = None\n",
    "\n",
    "import matplotlib.pyplot as plt\n",
    "%matplotlib inline\n",
    "\n",
    "import datetime as dt\n",
    "import pickle\n",
    "import os\n",
    "import time\n",
    "\n",
    "import seaborn as sns\n",
    "sns.set()\n",
    "from matplotlib import style\n",
    "# style.use('ggplot')\n",
    "%load_ext autoreload\n",
    "%autoreload 2"
   ]
  },
  {
   "cell_type": "markdown",
   "metadata": {},
   "source": [
    "# Pure TCN for Time Series Only"
   ]
  },
  {
   "cell_type": "code",
   "execution_count": 49,
   "metadata": {},
   "outputs": [
    {
     "name": "stdout",
     "output_type": "stream",
     "text": [
      "(498414, 128) (60412, 128) (498414, 1) (60412, 1)\n"
     ]
    }
   ],
   "source": [
    "train_arrs, test_arrs = [], []\n",
    "\n",
    "arr_names = [\"Xhist\", \"y\", \"dateticker\"]\n",
    "\n",
    "for arr_name in arr_names:\n",
    "    fname = 'data/temporal_data/' + arr_name + \"Train.npy\"\n",
    "    train_arrs.append(np.load(fname, allow_pickle=True))\n",
    "    fname = 'data/temporal_data/' + arr_name + \"Test.npy\"\n",
    "    test_arrs.append(np.load(fname, allow_pickle=True))\n",
    "    \n",
    "XseqTrain, yTrain, datetickerTrain = train_arrs\n",
    "XseqTest, yTest, datetickerTest = test_arrs\n",
    "\n",
    "print(XseqTrain.shape, XseqTest.shape, yTrain.shape, yTest.shape)"
   ]
  },
  {
   "cell_type": "code",
   "execution_count": 50,
   "metadata": {},
   "outputs": [
    {
     "name": "stdout",
     "output_type": "stream",
     "text": [
      "x_train.shape =  torch.Size([498414, 1, 128])\n",
      "y_train.shape =  torch.Size([498414, 1])\n",
      "x_test.shape =  torch.Size([60412, 1, 128])\n",
      "y_test.shape =  torch.Size([60412, 1])\n"
     ]
    }
   ],
   "source": [
    "import torch\n",
    "from torch.utils.data import DataLoader, TensorDataset\n",
    "bs = 64\n",
    "timesteps = 128\n",
    "\n",
    "# train_ds = SeqDataset(XseqTrain, yTrain, timesteps)\n",
    "# test_ds = SeqDataset(XseqTest, yTest, timesteps)\n",
    "\n",
    "\n",
    "x_train = torch.from_numpy(XseqTrain[:, np.newaxis, -timesteps:]).type(torch.Tensor)\n",
    "x_test = torch.from_numpy(XseqTest[:, np.newaxis, -timesteps:]).type(torch.Tensor)\n",
    "y_train = torch.from_numpy(yTrain.astype(np.float)).type(torch.Tensor)\n",
    "y_test = torch.from_numpy(yTest.astype(np.float)).type(torch.Tensor)\n",
    "\n",
    "train_ds = TensorDataset(x_train, y_train)\n",
    "test_ds = TensorDataset(x_test, y_test)\n",
    "\n",
    "\n",
    "train_dl = DataLoader(train_ds, bs, shuffle=True)\n",
    "val_dl = DataLoader(test_ds, bs, shuffle=True)\n",
    "\n",
    "print('x_train.shape = ',x_train.shape)\n",
    "print('y_train.shape = ',y_train.shape)\n",
    "print('x_test.shape = ',x_test.shape)\n",
    "print('y_test.shape = ',y_test.shape)"
   ]
  },
  {
   "cell_type": "code",
   "execution_count": 51,
   "metadata": {},
   "outputs": [
    {
     "name": "stdout",
     "output_type": "stream",
     "text": [
      "TemporalConvNet(\n",
      "  (network): Sequential(\n",
      "    (0): TemporalBlock(\n",
      "      (conv1): Conv1d(1, 32, kernel_size=(2,), stride=(1,), padding=(1,))\n",
      "      (chomp1): Chomp1d()\n",
      "      (relu1): ReLU()\n",
      "      (dropout1): Dropout(p=0.2, inplace=False)\n",
      "      (conv2): Conv1d(32, 32, kernel_size=(2,), stride=(1,), padding=(1,))\n",
      "      (chomp2): Chomp1d()\n",
      "      (relu2): ReLU()\n",
      "      (dropout2): Dropout(p=0.2, inplace=False)\n",
      "      (net): Sequential(\n",
      "        (0): Conv1d(1, 32, kernel_size=(2,), stride=(1,), padding=(1,))\n",
      "        (1): Chomp1d()\n",
      "        (2): ReLU()\n",
      "        (3): Dropout(p=0.2, inplace=False)\n",
      "        (4): Conv1d(32, 32, kernel_size=(2,), stride=(1,), padding=(1,))\n",
      "        (5): Chomp1d()\n",
      "        (6): ReLU()\n",
      "        (7): Dropout(p=0.2, inplace=False)\n",
      "      )\n",
      "      (downsample): Conv1d(1, 32, kernel_size=(1,), stride=(1,))\n",
      "      (relu): ReLU()\n",
      "    )\n",
      "    (1): TemporalBlock(\n",
      "      (conv1): Conv1d(32, 32, kernel_size=(2,), stride=(1,), padding=(2,), dilation=(2,))\n",
      "      (chomp1): Chomp1d()\n",
      "      (relu1): ReLU()\n",
      "      (dropout1): Dropout(p=0.2, inplace=False)\n",
      "      (conv2): Conv1d(32, 32, kernel_size=(2,), stride=(1,), padding=(2,), dilation=(2,))\n",
      "      (chomp2): Chomp1d()\n",
      "      (relu2): ReLU()\n",
      "      (dropout2): Dropout(p=0.2, inplace=False)\n",
      "      (net): Sequential(\n",
      "        (0): Conv1d(32, 32, kernel_size=(2,), stride=(1,), padding=(2,), dilation=(2,))\n",
      "        (1): Chomp1d()\n",
      "        (2): ReLU()\n",
      "        (3): Dropout(p=0.2, inplace=False)\n",
      "        (4): Conv1d(32, 32, kernel_size=(2,), stride=(1,), padding=(2,), dilation=(2,))\n",
      "        (5): Chomp1d()\n",
      "        (6): ReLU()\n",
      "        (7): Dropout(p=0.2, inplace=False)\n",
      "      )\n",
      "      (relu): ReLU()\n",
      "    )\n",
      "    (2): TemporalBlock(\n",
      "      (conv1): Conv1d(32, 32, kernel_size=(2,), stride=(1,), padding=(4,), dilation=(4,))\n",
      "      (chomp1): Chomp1d()\n",
      "      (relu1): ReLU()\n",
      "      (dropout1): Dropout(p=0.2, inplace=False)\n",
      "      (conv2): Conv1d(32, 32, kernel_size=(2,), stride=(1,), padding=(4,), dilation=(4,))\n",
      "      (chomp2): Chomp1d()\n",
      "      (relu2): ReLU()\n",
      "      (dropout2): Dropout(p=0.2, inplace=False)\n",
      "      (net): Sequential(\n",
      "        (0): Conv1d(32, 32, kernel_size=(2,), stride=(1,), padding=(4,), dilation=(4,))\n",
      "        (1): Chomp1d()\n",
      "        (2): ReLU()\n",
      "        (3): Dropout(p=0.2, inplace=False)\n",
      "        (4): Conv1d(32, 32, kernel_size=(2,), stride=(1,), padding=(4,), dilation=(4,))\n",
      "        (5): Chomp1d()\n",
      "        (6): ReLU()\n",
      "        (7): Dropout(p=0.2, inplace=False)\n",
      "      )\n",
      "      (relu): ReLU()\n",
      "    )\n",
      "    (3): TemporalBlock(\n",
      "      (conv1): Conv1d(32, 32, kernel_size=(2,), stride=(1,), padding=(8,), dilation=(8,))\n",
      "      (chomp1): Chomp1d()\n",
      "      (relu1): ReLU()\n",
      "      (dropout1): Dropout(p=0.2, inplace=False)\n",
      "      (conv2): Conv1d(32, 32, kernel_size=(2,), stride=(1,), padding=(8,), dilation=(8,))\n",
      "      (chomp2): Chomp1d()\n",
      "      (relu2): ReLU()\n",
      "      (dropout2): Dropout(p=0.2, inplace=False)\n",
      "      (net): Sequential(\n",
      "        (0): Conv1d(32, 32, kernel_size=(2,), stride=(1,), padding=(8,), dilation=(8,))\n",
      "        (1): Chomp1d()\n",
      "        (2): ReLU()\n",
      "        (3): Dropout(p=0.2, inplace=False)\n",
      "        (4): Conv1d(32, 32, kernel_size=(2,), stride=(1,), padding=(8,), dilation=(8,))\n",
      "        (5): Chomp1d()\n",
      "        (6): ReLU()\n",
      "        (7): Dropout(p=0.2, inplace=False)\n",
      "      )\n",
      "      (relu): ReLU()\n",
      "    )\n",
      "    (4): TemporalBlock(\n",
      "      (conv1): Conv1d(32, 32, kernel_size=(2,), stride=(1,), padding=(16,), dilation=(16,))\n",
      "      (chomp1): Chomp1d()\n",
      "      (relu1): ReLU()\n",
      "      (dropout1): Dropout(p=0.2, inplace=False)\n",
      "      (conv2): Conv1d(32, 32, kernel_size=(2,), stride=(1,), padding=(16,), dilation=(16,))\n",
      "      (chomp2): Chomp1d()\n",
      "      (relu2): ReLU()\n",
      "      (dropout2): Dropout(p=0.2, inplace=False)\n",
      "      (net): Sequential(\n",
      "        (0): Conv1d(32, 32, kernel_size=(2,), stride=(1,), padding=(16,), dilation=(16,))\n",
      "        (1): Chomp1d()\n",
      "        (2): ReLU()\n",
      "        (3): Dropout(p=0.2, inplace=False)\n",
      "        (4): Conv1d(32, 32, kernel_size=(2,), stride=(1,), padding=(16,), dilation=(16,))\n",
      "        (5): Chomp1d()\n",
      "        (6): ReLU()\n",
      "        (7): Dropout(p=0.2, inplace=False)\n",
      "      )\n",
      "      (relu): ReLU()\n",
      "    )\n",
      "    (5): TemporalBlock(\n",
      "      (conv1): Conv1d(32, 32, kernel_size=(2,), stride=(1,), padding=(32,), dilation=(32,))\n",
      "      (chomp1): Chomp1d()\n",
      "      (relu1): ReLU()\n",
      "      (dropout1): Dropout(p=0.2, inplace=False)\n",
      "      (conv2): Conv1d(32, 32, kernel_size=(2,), stride=(1,), padding=(32,), dilation=(32,))\n",
      "      (chomp2): Chomp1d()\n",
      "      (relu2): ReLU()\n",
      "      (dropout2): Dropout(p=0.2, inplace=False)\n",
      "      (net): Sequential(\n",
      "        (0): Conv1d(32, 32, kernel_size=(2,), stride=(1,), padding=(32,), dilation=(32,))\n",
      "        (1): Chomp1d()\n",
      "        (2): ReLU()\n",
      "        (3): Dropout(p=0.2, inplace=False)\n",
      "        (4): Conv1d(32, 32, kernel_size=(2,), stride=(1,), padding=(32,), dilation=(32,))\n",
      "        (5): Chomp1d()\n",
      "        (6): ReLU()\n",
      "        (7): Dropout(p=0.2, inplace=False)\n",
      "      )\n",
      "      (relu): ReLU()\n",
      "    )\n",
      "    (6): TemporalBlock(\n",
      "      (conv1): Conv1d(32, 32, kernel_size=(2,), stride=(1,), padding=(64,), dilation=(64,))\n",
      "      (chomp1): Chomp1d()\n",
      "      (relu1): ReLU()\n",
      "      (dropout1): Dropout(p=0.2, inplace=False)\n",
      "      (conv2): Conv1d(32, 32, kernel_size=(2,), stride=(1,), padding=(64,), dilation=(64,))\n",
      "      (chomp2): Chomp1d()\n",
      "      (relu2): ReLU()\n",
      "      (dropout2): Dropout(p=0.2, inplace=False)\n",
      "      (net): Sequential(\n",
      "        (0): Conv1d(32, 32, kernel_size=(2,), stride=(1,), padding=(64,), dilation=(64,))\n",
      "        (1): Chomp1d()\n",
      "        (2): ReLU()\n",
      "        (3): Dropout(p=0.2, inplace=False)\n",
      "        (4): Conv1d(32, 32, kernel_size=(2,), stride=(1,), padding=(64,), dilation=(64,))\n",
      "        (5): Chomp1d()\n",
      "        (6): ReLU()\n",
      "        (7): Dropout(p=0.2, inplace=False)\n",
      "      )\n",
      "      (relu): ReLU()\n",
      "    )\n",
      "    (7): TemporalBlock(\n",
      "      (conv1): Conv1d(32, 32, kernel_size=(2,), stride=(1,), padding=(128,), dilation=(128,))\n",
      "      (chomp1): Chomp1d()\n",
      "      (relu1): ReLU()\n",
      "      (dropout1): Dropout(p=0.2, inplace=False)\n",
      "      (conv2): Conv1d(32, 32, kernel_size=(2,), stride=(1,), padding=(128,), dilation=(128,))\n",
      "      (chomp2): Chomp1d()\n",
      "      (relu2): ReLU()\n",
      "      (dropout2): Dropout(p=0.2, inplace=False)\n",
      "      (net): Sequential(\n",
      "        (0): Conv1d(32, 32, kernel_size=(2,), stride=(1,), padding=(128,), dilation=(128,))\n",
      "        (1): Chomp1d()\n",
      "        (2): ReLU()\n",
      "        (3): Dropout(p=0.2, inplace=False)\n",
      "        (4): Conv1d(32, 32, kernel_size=(2,), stride=(1,), padding=(128,), dilation=(128,))\n",
      "        (5): Chomp1d()\n",
      "        (6): ReLU()\n",
      "        (7): Dropout(p=0.2, inplace=False)\n",
      "      )\n",
      "      (relu): ReLU()\n",
      "    )\n",
      "    (8): TemporalBlock(\n",
      "      (conv1): Conv1d(32, 1, kernel_size=(2,), stride=(1,), padding=(256,), dilation=(256,))\n",
      "      (chomp1): Chomp1d()\n",
      "      (relu1): ReLU()\n",
      "      (dropout1): Dropout(p=0.2, inplace=False)\n",
      "      (conv2): Conv1d(1, 1, kernel_size=(2,), stride=(1,), padding=(256,), dilation=(256,))\n",
      "      (chomp2): Chomp1d()\n",
      "      (relu2): ReLU()\n",
      "      (dropout2): Dropout(p=0.2, inplace=False)\n",
      "      (net): Sequential(\n",
      "        (0): Conv1d(32, 1, kernel_size=(2,), stride=(1,), padding=(256,), dilation=(256,))\n",
      "        (1): Chomp1d()\n",
      "        (2): ReLU()\n",
      "        (3): Dropout(p=0.2, inplace=False)\n",
      "        (4): Conv1d(1, 1, kernel_size=(2,), stride=(1,), padding=(256,), dilation=(256,))\n",
      "        (5): Chomp1d()\n",
      "        (6): ReLU()\n",
      "        (7): Dropout(p=0.2, inplace=False)\n",
      "      )\n",
      "      (downsample): Conv1d(32, 1, kernel_size=(1,), stride=(1,))\n",
      "      (relu): ReLU()\n",
      "    )\n",
      "  )\n",
      ")\n"
     ]
    }
   ],
   "source": [
    "# from tcn import *\n",
    "import tcn\n",
    "\n",
    "# channels = [16, 16, 16, 16, 16, 16, 16, 1]\n",
    "channels = [32]*8 + [1]\n",
    "model = tcn.TemporalConvNet(1, channels)\n",
    "print(model)"
   ]
  },
  {
   "cell_type": "code",
   "execution_count": 52,
   "metadata": {},
   "outputs": [
    {
     "name": "stderr",
     "output_type": "stream",
     "text": [
      "100%|██████████| 7788/7788 [02:46<00:00, 46.65it/s]\n"
     ]
    },
    {
     "name": "stdout",
     "output_type": "stream",
     "text": [
      "Epoch 1: training loss=0.02713\n"
     ]
    },
    {
     "name": "stderr",
     "output_type": "stream",
     "text": [
      "  0%|          | 3/7788 [00:00<04:39, 27.89it/s]"
     ]
    },
    {
     "name": "stdout",
     "output_type": "stream",
     "text": [
      "Epoch 1: val loss=0.00319\n"
     ]
    },
    {
     "name": "stderr",
     "output_type": "stream",
     "text": [
      "100%|██████████| 7788/7788 [02:44<00:00, 47.36it/s]\n"
     ]
    },
    {
     "name": "stdout",
     "output_type": "stream",
     "text": [
      "Epoch 2: training loss=0.00124\n",
      "Epoch 2: val loss=0.00106\n"
     ]
    }
   ],
   "source": [
    "# tcn.train_model(model, train_dl, val_dl, n_epochs=5, lr=1e-2)\n",
    "tcn.train_model(model, train_dl, val_dl, n_epochs=2, lr=1e-3)"
   ]
  },
  {
   "cell_type": "code",
   "execution_count": 53,
   "metadata": {},
   "outputs": [],
   "source": [
    "# device = torch.device(\"cuda:0\" if torch.cuda.is_available() else \"cpu\")\n",
    "# model.to(device)\n",
    "# for xb, yb in tqdm(train_dl):\n",
    "#     xb, yb = xb.to(device), yb.to(device)\n",
    "# #     print(xb.shape)\n",
    "#     preds = model(xb)\n",
    "#     print(preds.shape)"
   ]
  },
  {
   "cell_type": "code",
   "execution_count": 54,
   "metadata": {},
   "outputs": [
    {
     "name": "stderr",
     "output_type": "stream",
     "text": [
      "100%|██████████| 487/487 [00:15<00:00, 32.24it/s]\n",
      "100%|██████████| 59/59 [00:01<00:00, 32.98it/s]\n"
     ]
    }
   ],
   "source": [
    "train_preds, train_targets = tcn.predict(model, train_ds, 1024)\n",
    "test_preds, test_targets = tcn.predict(model, test_ds, 1024)"
   ]
  },
  {
   "cell_type": "code",
   "execution_count": 59,
   "metadata": {
    "scrolled": true
   },
   "outputs": [
    {
     "data": {
      "image/png": "[encoded data removed]",
      "text/plain": [
       "<Figure size 1440x576 with 1 Axes>"
      ]
     },
     "metadata": {},
     "output_type": "display_data"
    }
   ],
   "source": [
    "df_pred_test = pd.DataFrame(datetickerTest, columns=['Date', 'ticker'])\n",
    "df_pred_test['target_price'] = test_targets\n",
    "df_pred_test['tcn'] = test_preds\n",
    "# df_pred_test.head()\n",
    "\n",
    "ticker = 'GOOG'\n",
    "idx = df_pred_test[df_pred_test.ticker==ticker].index\n",
    "y_plot_pred = df_pred_test.iloc[idx]['tcn'].values\n",
    "y_plot_real = df_pred_test.iloc[idx]['target_price'].values\n",
    "\n",
    "n = len(y_plot_real)\n",
    "fig, ax = plt.subplots(1,1, figsize=(20,8))\n",
    "x_plot = np.arange(n)\n",
    "plt.plot(x_plot, y_plot_real, color=\"green\")\n",
    "plt.scatter(x_plot, y_plot_real, c=\"green\", label=\"Real\")\n",
    "plt.plot(x_plot, y_plot_pred, color=\"red\")\n",
    "plt.scatter(x_plot, y_plot_pred, c=\"red\", label=\"Prediction\")\n",
    "plt.title(\"Real vs Prediction\")\n",
    "plt.xlabel(\"Time\")\n",
    "plt.ylabel(\"Price $\")\n",
    "plt.legend()\n",
    "plt.show()"
   ]
  },
  {
   "cell_type": "code",
   "execution_count": 60,
   "metadata": {},
   "outputs": [
    {
     "data": {
      "text/html": [
       "<div>\n",
       "<style scoped>\n",
       "    .dataframe tbody tr th:only-of-type {\n",
       "        vertical-align: middle;\n",
       "    }\n",
       "\n",
       "    .dataframe tbody tr th {\n",
       "        vertical-align: top;\n",
       "    }\n",
       "\n",
       "    .dataframe thead th {\n",
       "        text-align: right;\n",
       "    }\n",
       "</style>\n",
       "<table border=\"1\" class=\"dataframe\">\n",
       "  <thead>\n",
       "    <tr style=\"text-align: right;\">\n",
       "      <th></th>\n",
       "      <th>Date</th>\n",
       "      <th>ticker</th>\n",
       "      <th>target_price</th>\n",
       "      <th>tcn_pred</th>\n",
       "    </tr>\n",
       "  </thead>\n",
       "  <tbody>\n",
       "    <tr>\n",
       "      <th>60407</th>\n",
       "      <td>2020-02-07</td>\n",
       "      <td>ZTS</td>\n",
       "      <td>0.977593</td>\n",
       "      <td>0.900534</td>\n",
       "    </tr>\n",
       "    <tr>\n",
       "      <th>60408</th>\n",
       "      <td>2020-02-10</td>\n",
       "      <td>ZTS</td>\n",
       "      <td>0.991468</td>\n",
       "      <td>0.918852</td>\n",
       "    </tr>\n",
       "    <tr>\n",
       "      <th>60409</th>\n",
       "      <td>2020-02-11</td>\n",
       "      <td>ZTS</td>\n",
       "      <td>0.981624</td>\n",
       "      <td>0.929662</td>\n",
       "    </tr>\n",
       "    <tr>\n",
       "      <th>60410</th>\n",
       "      <td>2020-02-12</td>\n",
       "      <td>ZTS</td>\n",
       "      <td>1.000000</td>\n",
       "      <td>0.928262</td>\n",
       "    </tr>\n",
       "    <tr>\n",
       "      <th>60411</th>\n",
       "      <td>2020-02-13</td>\n",
       "      <td>ZTS</td>\n",
       "      <td>0.992781</td>\n",
       "      <td>0.938188</td>\n",
       "    </tr>\n",
       "  </tbody>\n",
       "</table>\n",
       "</div>"
      ],
      "text/plain": [
       "            Date ticker  target_price  tcn_pred\n",
       "60407 2020-02-07    ZTS      0.977593  0.900534\n",
       "60408 2020-02-10    ZTS      0.991468  0.918852\n",
       "60409 2020-02-11    ZTS      0.981624  0.929662\n",
       "60410 2020-02-12    ZTS      1.000000  0.928262\n",
       "60411 2020-02-13    ZTS      0.992781  0.938188"
      ]
     },
     "execution_count": 60,
     "metadata": {},
     "output_type": "execute_result"
    }
   ],
   "source": [
    "df_pred_test = pd.DataFrame(datetickerTest, columns=['Date', 'ticker'])\n",
    "df_pred_test['target_price'] = test_targets\n",
    "df_pred_test['tcn_pred'] = test_preds\n",
    "\n",
    "df_pred_test.to_csv('Results/tcn_test_preds.csv', index=False)\n",
    "df_pred_test.tail()"
   ]
  },
  {
   "cell_type": "code",
   "execution_count": 18,
   "metadata": {},
   "outputs": [],
   "source": [
    "PATH = './models/ts_tcn.mod'\n",
    "torch.save(model.state_dict(), PATH)"
   ]
  },
  {
   "cell_type": "markdown",
   "metadata": {},
   "source": [
    "# Hybrid TCN"
   ]
  },
  {
   "cell_type": "code",
   "execution_count": 2,
   "metadata": {},
   "outputs": [
    {
     "name": "stdout",
     "output_type": "stream",
     "text": [
      "<class 'pandas.core.frame.DataFrame'>\n",
      "RangeIndex: 621391 entries, 0 to 621390\n",
      "Data columns (total 32 columns):\n",
      " #   Column                     Non-Null Count   Dtype         \n",
      "---  ------                     --------------   -----         \n",
      " 0   Date                       621391 non-null  datetime64[ns]\n",
      " 1   Adj Close                  621391 non-null  float64       \n",
      " 2   volume_obv                 621391 non-null  float64       \n",
      " 3   volume_fi                  621391 non-null  float64       \n",
      " 4   volatility_bbm             621391 non-null  float64       \n",
      " 5   volatility_bbw             621391 non-null  float64       \n",
      " 6   volatility_bbhi            621391 non-null  float64       \n",
      " 7   volatility_bbli            621391 non-null  float64       \n",
      " 8   trend_macd                 621391 non-null  float64       \n",
      " 9   trend_macd_signal          621391 non-null  float64       \n",
      " 10  trend_macd_diff            621391 non-null  float64       \n",
      " 11  trend_psar_up_indicator    621391 non-null  float64       \n",
      " 12  trend_psar_down_indicator  621391 non-null  float64       \n",
      " 13  momentum_ao                621391 non-null  float64       \n",
      " 14  momentum_roc               621391 non-null  float64       \n",
      " 15  ticker                     621391 non-null  object        \n",
      " 16  sector                     621391 non-null  object        \n",
      " 17  industry                   621391 non-null  object        \n",
      " 18  Year                       621391 non-null  int64         \n",
      " 19  Month                      621391 non-null  int64         \n",
      " 20  Week                       621391 non-null  int64         \n",
      " 21  Day                        621391 non-null  int64         \n",
      " 22  Dayofweek                  621391 non-null  int64         \n",
      " 23  Dayofyear                  621391 non-null  float64       \n",
      " 24  Is_month_end               621391 non-null  bool          \n",
      " 25  Is_month_start             621391 non-null  bool          \n",
      " 26  Is_quarter_end             621391 non-null  bool          \n",
      " 27  Is_quarter_start           621391 non-null  bool          \n",
      " 28  Is_year_end                621391 non-null  bool          \n",
      " 29  Is_year_start              621391 non-null  bool          \n",
      " 30  Elapsed                    621391 non-null  float64       \n",
      " 31  target_price               621391 non-null  float64       \n",
      "dtypes: bool(6), datetime64[ns](1), float64(17), int64(5), object(3)\n",
      "memory usage: 126.8+ MB\n"
     ]
    }
   ],
   "source": [
    "df = pd.read_csv('data_scaled.csv')\n",
    "# df = df.drop(columns=[\"Return\"])\n",
    "df['Date'] = pd.to_datetime(df['Date'])\n",
    "df.info()"
   ]
  },
  {
   "cell_type": "code",
   "execution_count": 3,
   "metadata": {},
   "outputs": [
    {
     "name": "stdout",
     "output_type": "stream",
     "text": [
      "18 Categorical Features:\n",
      "['volatility_bbhi', 'volatility_bbli', 'trend_psar_up_indicator', 'trend_psar_down_indicator', 'ticker', 'sector', 'industry', 'Year', 'Month', 'Week', 'Day', 'Dayofweek', 'Is_month_end', 'Is_month_start', 'Is_quarter_end', 'Is_quarter_start', 'Is_year_end', 'Is_year_start']\n",
      "12 Continuous Features:\n",
      "['Adj Close', 'volume_obv', 'volume_fi', 'volatility_bbm', 'volatility_bbw', 'trend_macd', 'trend_macd_signal', 'trend_macd_diff', 'momentum_ao', 'momentum_roc', 'Dayofyear', 'Elapsed']\n"
     ]
    }
   ],
   "source": [
    "# def cat_cont_split(df, maxcard=55, omit_vars=['Date', 'Adj Close', 'Return', 'target_price']):\n",
    "def cat_cont_split(df, maxcard=55, omit_vars=['Date', 'target_price']):\n",
    "    \"\"\"Helper function that returns column names of categorical & continuous features from df.\"\"\"\n",
    "    cat_feats, cont_feats = [], []\n",
    "    for col in df:\n",
    "        if col in omit_vars: \n",
    "            continue\n",
    "        if (df[col].dtype==int or df[col].dtype==float) and df[col].unique().shape[0] > maxcard:\n",
    "            cont_feats.append(col)\n",
    "        else:\n",
    "            cat_feats.append(col)\n",
    "    return cat_feats, cont_feats\n",
    "    \n",
    "cat_vars, cont_vars = cat_cont_split(df)\n",
    "print(len(cat_vars), 'Categorical Features:')\n",
    "print(cat_vars)\n",
    "print(len(cont_vars), 'Continuous Features:')\n",
    "print(cont_vars)"
   ]
  },
  {
   "cell_type": "code",
   "execution_count": 4,
   "metadata": {},
   "outputs": [
    {
     "name": "stdout",
     "output_type": "stream",
     "text": [
      "<class 'pandas.core.frame.DataFrame'>\n",
      "RangeIndex: 621391 entries, 0 to 621390\n",
      "Data columns (total 32 columns):\n",
      " #   Column                     Non-Null Count   Dtype         \n",
      "---  ------                     --------------   -----         \n",
      " 0   Date                       621391 non-null  datetime64[ns]\n",
      " 1   Adj Close                  621391 non-null  float64       \n",
      " 2   volume_obv                 621391 non-null  float64       \n",
      " 3   volume_fi                  621391 non-null  float64       \n",
      " 4   volatility_bbm             621391 non-null  float64       \n",
      " 5   volatility_bbw             621391 non-null  float64       \n",
      " 6   volatility_bbhi            621391 non-null  category      \n",
      " 7   volatility_bbli            621391 non-null  category      \n",
      " 8   trend_macd                 621391 non-null  float64       \n",
      " 9   trend_macd_signal          621391 non-null  float64       \n",
      " 10  trend_macd_diff            621391 non-null  float64       \n",
      " 11  trend_psar_up_indicator    621391 non-null  category      \n",
      " 12  trend_psar_down_indicator  621391 non-null  category      \n",
      " 13  momentum_ao                621391 non-null  float64       \n",
      " 14  momentum_roc               621391 non-null  float64       \n",
      " 15  ticker                     621391 non-null  category      \n",
      " 16  sector                     621391 non-null  category      \n",
      " 17  industry                   621391 non-null  category      \n",
      " 18  Year                       621391 non-null  category      \n",
      " 19  Month                      621391 non-null  category      \n",
      " 20  Week                       621391 non-null  category      \n",
      " 21  Day                        621391 non-null  category      \n",
      " 22  Dayofweek                  621391 non-null  category      \n",
      " 23  Dayofyear                  621391 non-null  float64       \n",
      " 24  Is_month_end               621391 non-null  category      \n",
      " 25  Is_month_start             621391 non-null  category      \n",
      " 26  Is_quarter_end             621391 non-null  category      \n",
      " 27  Is_quarter_start           621391 non-null  category      \n",
      " 28  Is_year_end                621391 non-null  category      \n",
      " 29  Is_year_start              621391 non-null  category      \n",
      " 30  Elapsed                    621391 non-null  float64       \n",
      " 31  target_price               621391 non-null  float64       \n",
      "dtypes: category(18), datetime64[ns](1), float64(13)\n",
      "memory usage: 77.7 MB\n"
     ]
    }
   ],
   "source": [
    "class Categorifier:\n",
    "    ''' Transform categorical features into category types '''\n",
    "    def apply_train(self, df, cat_vars):\n",
    "        self.cat_vars = cat_vars\n",
    "        self.categories = {}\n",
    "        for v in self.cat_vars:\n",
    "            df.loc[:, v] = df.loc[:, v].astype('category').cat.as_ordered()\n",
    "            self.categories[v] = df[v].cat.categories\n",
    "            \n",
    "    def apply_test(self, df_test):\n",
    "        for v in self.cat_vars:\n",
    "            df_test.loc[:, v] = pd.Categorical(df[v], categories=self.categories[v], ordered=True)\n",
    "\n",
    "cat = Categorifier()\n",
    "cat.apply_train(df, cat_vars)\n",
    "df.info()"
   ]
  },
  {
   "cell_type": "code",
   "execution_count": 5,
   "metadata": {},
   "outputs": [],
   "source": [
    "dep_var = 'target_price'\n",
    "cont_vars = cont_vars\n",
    "cat_sz = [(nc, len(df[nc].cat.categories)+1) for nc in cat_vars]\n",
    "# emb_szs = [(nc, min(50, (nc+1)//2)) for _, nc in cat_sz]\n",
    "emb_szs = [(nc, min(51, round(1.6*nc**0.56))) for _, nc in cat_sz]"
   ]
  },
  {
   "cell_type": "code",
   "execution_count": 6,
   "metadata": {},
   "outputs": [
    {
     "name": "stdout",
     "output_type": "stream",
     "text": [
      "(498414, 128) (60412, 128) (498414, 1) (60412, 1)\n"
     ]
    }
   ],
   "source": [
    "train_arrs, test_arrs = [], []\n",
    "\n",
    "arr_names = [\"Xhist\", \"Xcat\", \"Xcont\", \"y\", \"dateticker\"]\n",
    "\n",
    "for arr_name in arr_names:\n",
    "    fname = 'data/temporal_data/' + arr_name + \"Train.npy\"\n",
    "    train_arrs.append(np.load(fname, allow_pickle=True))\n",
    "    fname = 'data/temporal_data/' + arr_name + \"Test.npy\"\n",
    "    test_arrs.append(np.load(fname, allow_pickle=True))\n",
    "    \n",
    "XseqTrain, XcatTrain, XcontTrain, yTrain, datetickerTrain = train_arrs\n",
    "XseqTest, XcatTest, XcontTest, yTest, datetickerTest = test_arrs\n",
    "\n",
    "print(XseqTrain.shape, XseqTest.shape, yTrain.shape, yTest.shape)"
   ]
  },
  {
   "cell_type": "code",
   "execution_count": 8,
   "metadata": {},
   "outputs": [],
   "source": [
    "import hybrid_tcn\n",
    "from torch.utils.data import DataLoader\n",
    "\n",
    "bs = 64\n",
    "timesteps = 128\n",
    "\n",
    "train_ds = hybrid_tcn.HybridDataset(XcatTrain, XcontTrain, XseqTrain, yTrain, timesteps)\n",
    "train_ds = hybrid_tcn.HybridDataset(np.vstack([XcatTrain, XcatTest]), \n",
    "                                     np.vstack([XcontTrain, XcontTest]),\n",
    "                                     np.vstack([XseqTrain, XseqTest]),\n",
    "                                     np.vstack([yTrain,yTest]), timesteps)\n",
    "\n",
    "test_ds = hybrid_tcn.HybridDataset(XcatTest, XcontTest, XseqTest, yTest, timesteps)\n",
    "\n",
    "train_dl = DataLoader(train_ds, bs, shuffle=True)\n",
    "val_dl = DataLoader(test_ds, 1024, shuffle=True)"
   ]
  },
  {
   "cell_type": "code",
   "execution_count": 9,
   "metadata": {},
   "outputs": [
    {
     "name": "stdout",
     "output_type": "stream",
     "text": [
      "HybridTCN(\n",
      "  (tcn): TemporalConvNet(\n",
      "    (network): Sequential(\n",
      "      (0): TemporalBlock(\n",
      "        (conv1): Conv1d(1, 32, kernel_size=(2,), stride=(1,), padding=(1,))\n",
      "        (chomp1): Chomp1d()\n",
      "        (relu1): ReLU()\n",
      "        (dropout1): Dropout(p=0.2, inplace=False)\n",
      "        (conv2): Conv1d(32, 32, kernel_size=(2,), stride=(1,), padding=(1,))\n",
      "        (chomp2): Chomp1d()\n",
      "        (relu2): ReLU()\n",
      "        (dropout2): Dropout(p=0.2, inplace=False)\n",
      "        (net): Sequential(\n",
      "          (0): Conv1d(1, 32, kernel_size=(2,), stride=(1,), padding=(1,))\n",
      "          (1): Chomp1d()\n",
      "          (2): ReLU()\n",
      "          (3): Dropout(p=0.2, inplace=False)\n",
      "          (4): Conv1d(32, 32, kernel_size=(2,), stride=(1,), padding=(1,))\n",
      "          (5): Chomp1d()\n",
      "          (6): ReLU()\n",
      "          (7): Dropout(p=0.2, inplace=False)\n",
      "        )\n",
      "        (downsample): Conv1d(1, 32, kernel_size=(1,), stride=(1,))\n",
      "        (relu): ReLU()\n",
      "      )\n",
      "      (1): TemporalBlock(\n",
      "        (conv1): Conv1d(32, 32, kernel_size=(2,), stride=(1,), padding=(2,), dilation=(2,))\n",
      "        (chomp1): Chomp1d()\n",
      "        (relu1): ReLU()\n",
      "        (dropout1): Dropout(p=0.2, inplace=False)\n",
      "        (conv2): Conv1d(32, 32, kernel_size=(2,), stride=(1,), padding=(2,), dilation=(2,))\n",
      "        (chomp2): Chomp1d()\n",
      "        (relu2): ReLU()\n",
      "        (dropout2): Dropout(p=0.2, inplace=False)\n",
      "        (net): Sequential(\n",
      "          (0): Conv1d(32, 32, kernel_size=(2,), stride=(1,), padding=(2,), dilation=(2,))\n",
      "          (1): Chomp1d()\n",
      "          (2): ReLU()\n",
      "          (3): Dropout(p=0.2, inplace=False)\n",
      "          (4): Conv1d(32, 32, kernel_size=(2,), stride=(1,), padding=(2,), dilation=(2,))\n",
      "          (5): Chomp1d()\n",
      "          (6): ReLU()\n",
      "          (7): Dropout(p=0.2, inplace=False)\n",
      "        )\n",
      "        (relu): ReLU()\n",
      "      )\n",
      "      (2): TemporalBlock(\n",
      "        (conv1): Conv1d(32, 32, kernel_size=(2,), stride=(1,), padding=(4,), dilation=(4,))\n",
      "        (chomp1): Chomp1d()\n",
      "        (relu1): ReLU()\n",
      "        (dropout1): Dropout(p=0.2, inplace=False)\n",
      "        (conv2): Conv1d(32, 32, kernel_size=(2,), stride=(1,), padding=(4,), dilation=(4,))\n",
      "        (chomp2): Chomp1d()\n",
      "        (relu2): ReLU()\n",
      "        (dropout2): Dropout(p=0.2, inplace=False)\n",
      "        (net): Sequential(\n",
      "          (0): Conv1d(32, 32, kernel_size=(2,), stride=(1,), padding=(4,), dilation=(4,))\n",
      "          (1): Chomp1d()\n",
      "          (2): ReLU()\n",
      "          (3): Dropout(p=0.2, inplace=False)\n",
      "          (4): Conv1d(32, 32, kernel_size=(2,), stride=(1,), padding=(4,), dilation=(4,))\n",
      "          (5): Chomp1d()\n",
      "          (6): ReLU()\n",
      "          (7): Dropout(p=0.2, inplace=False)\n",
      "        )\n",
      "        (relu): ReLU()\n",
      "      )\n",
      "      (3): TemporalBlock(\n",
      "        (conv1): Conv1d(32, 32, kernel_size=(2,), stride=(1,), padding=(8,), dilation=(8,))\n",
      "        (chomp1): Chomp1d()\n",
      "        (relu1): ReLU()\n",
      "        (dropout1): Dropout(p=0.2, inplace=False)\n",
      "        (conv2): Conv1d(32, 32, kernel_size=(2,), stride=(1,), padding=(8,), dilation=(8,))\n",
      "        (chomp2): Chomp1d()\n",
      "        (relu2): ReLU()\n",
      "        (dropout2): Dropout(p=0.2, inplace=False)\n",
      "        (net): Sequential(\n",
      "          (0): Conv1d(32, 32, kernel_size=(2,), stride=(1,), padding=(8,), dilation=(8,))\n",
      "          (1): Chomp1d()\n",
      "          (2): ReLU()\n",
      "          (3): Dropout(p=0.2, inplace=False)\n",
      "          (4): Conv1d(32, 32, kernel_size=(2,), stride=(1,), padding=(8,), dilation=(8,))\n",
      "          (5): Chomp1d()\n",
      "          (6): ReLU()\n",
      "          (7): Dropout(p=0.2, inplace=False)\n",
      "        )\n",
      "        (relu): ReLU()\n",
      "      )\n",
      "      (4): TemporalBlock(\n",
      "        (conv1): Conv1d(32, 32, kernel_size=(2,), stride=(1,), padding=(16,), dilation=(16,))\n",
      "        (chomp1): Chomp1d()\n",
      "        (relu1): ReLU()\n",
      "        (dropout1): Dropout(p=0.2, inplace=False)\n",
      "        (conv2): Conv1d(32, 32, kernel_size=(2,), stride=(1,), padding=(16,), dilation=(16,))\n",
      "        (chomp2): Chomp1d()\n",
      "        (relu2): ReLU()\n",
      "        (dropout2): Dropout(p=0.2, inplace=False)\n",
      "        (net): Sequential(\n",
      "          (0): Conv1d(32, 32, kernel_size=(2,), stride=(1,), padding=(16,), dilation=(16,))\n",
      "          (1): Chomp1d()\n",
      "          (2): ReLU()\n",
      "          (3): Dropout(p=0.2, inplace=False)\n",
      "          (4): Conv1d(32, 32, kernel_size=(2,), stride=(1,), padding=(16,), dilation=(16,))\n",
      "          (5): Chomp1d()\n",
      "          (6): ReLU()\n",
      "          (7): Dropout(p=0.2, inplace=False)\n",
      "        )\n",
      "        (relu): ReLU()\n",
      "      )\n",
      "      (5): TemporalBlock(\n",
      "        (conv1): Conv1d(32, 32, kernel_size=(2,), stride=(1,), padding=(32,), dilation=(32,))\n",
      "        (chomp1): Chomp1d()\n",
      "        (relu1): ReLU()\n",
      "        (dropout1): Dropout(p=0.2, inplace=False)\n",
      "        (conv2): Conv1d(32, 32, kernel_size=(2,), stride=(1,), padding=(32,), dilation=(32,))\n",
      "        (chomp2): Chomp1d()\n",
      "        (relu2): ReLU()\n",
      "        (dropout2): Dropout(p=0.2, inplace=False)\n",
      "        (net): Sequential(\n",
      "          (0): Conv1d(32, 32, kernel_size=(2,), stride=(1,), padding=(32,), dilation=(32,))\n",
      "          (1): Chomp1d()\n",
      "          (2): ReLU()\n",
      "          (3): Dropout(p=0.2, inplace=False)\n",
      "          (4): Conv1d(32, 32, kernel_size=(2,), stride=(1,), padding=(32,), dilation=(32,))\n",
      "          (5): Chomp1d()\n",
      "          (6): ReLU()\n",
      "          (7): Dropout(p=0.2, inplace=False)\n",
      "        )\n",
      "        (relu): ReLU()\n",
      "      )\n",
      "      (6): TemporalBlock(\n",
      "        (conv1): Conv1d(32, 32, kernel_size=(2,), stride=(1,), padding=(64,), dilation=(64,))\n",
      "        (chomp1): Chomp1d()\n",
      "        (relu1): ReLU()\n",
      "        (dropout1): Dropout(p=0.2, inplace=False)\n",
      "        (conv2): Conv1d(32, 32, kernel_size=(2,), stride=(1,), padding=(64,), dilation=(64,))\n",
      "        (chomp2): Chomp1d()\n",
      "        (relu2): ReLU()\n",
      "        (dropout2): Dropout(p=0.2, inplace=False)\n",
      "        (net): Sequential(\n",
      "          (0): Conv1d(32, 32, kernel_size=(2,), stride=(1,), padding=(64,), dilation=(64,))\n",
      "          (1): Chomp1d()\n",
      "          (2): ReLU()\n",
      "          (3): Dropout(p=0.2, inplace=False)\n",
      "          (4): Conv1d(32, 32, kernel_size=(2,), stride=(1,), padding=(64,), dilation=(64,))\n",
      "          (5): Chomp1d()\n",
      "          (6): ReLU()\n",
      "          (7): Dropout(p=0.2, inplace=False)\n",
      "        )\n",
      "        (relu): ReLU()\n",
      "      )\n",
      "      (7): TemporalBlock(\n",
      "        (conv1): Conv1d(32, 30, kernel_size=(2,), stride=(1,), padding=(128,), dilation=(128,))\n",
      "        (chomp1): Chomp1d()\n",
      "        (relu1): ReLU()\n",
      "        (dropout1): Dropout(p=0.2, inplace=False)\n",
      "        (conv2): Conv1d(30, 30, kernel_size=(2,), stride=(1,), padding=(128,), dilation=(128,))\n",
      "        (chomp2): Chomp1d()\n",
      "        (relu2): ReLU()\n",
      "        (dropout2): Dropout(p=0.2, inplace=False)\n",
      "        (net): Sequential(\n",
      "          (0): Conv1d(32, 30, kernel_size=(2,), stride=(1,), padding=(128,), dilation=(128,))\n",
      "          (1): Chomp1d()\n",
      "          (2): ReLU()\n",
      "          (3): Dropout(p=0.2, inplace=False)\n",
      "          (4): Conv1d(30, 30, kernel_size=(2,), stride=(1,), padding=(128,), dilation=(128,))\n",
      "          (5): Chomp1d()\n",
      "          (6): ReLU()\n",
      "          (7): Dropout(p=0.2, inplace=False)\n",
      "        )\n",
      "        (downsample): Conv1d(32, 30, kernel_size=(1,), stride=(1,))\n",
      "        (relu): ReLU()\n",
      "      )\n",
      "    )\n",
      "  )\n",
      "  (embeds): ModuleList(\n",
      "    (0): Embedding(3, 3)\n",
      "    (1): Embedding(3, 3)\n",
      "    (2): Embedding(3, 3)\n",
      "    (3): Embedding(3, 3)\n",
      "    (4): Embedding(486, 51)\n",
      "    (5): Embedding(13, 7)\n",
      "    (6): Embedding(105, 22)\n",
      "    (7): Embedding(7, 5)\n",
      "    (8): Embedding(13, 7)\n",
      "    (9): Embedding(54, 15)\n",
      "    (10): Embedding(32, 11)\n",
      "    (11): Embedding(6, 4)\n",
      "    (12): Embedding(3, 3)\n",
      "    (13): Embedding(3, 3)\n",
      "    (14): Embedding(3, 3)\n",
      "    (15): Embedding(3, 3)\n",
      "    (16): Embedding(3, 3)\n",
      "    (17): Embedding(2, 2)\n",
      "  )\n",
      "  (emb_dropout): Dropout(p=0.1, inplace=False)\n",
      "  (bn_cont): BatchNorm1d(12, eps=1e-05, momentum=0.1, affine=True, track_running_stats=True)\n",
      "  (fc_layers): Sequential(\n",
      "    (0): Linear(in_features=193, out_features=1024, bias=True)\n",
      "    (1): ReLU(inplace=True)\n",
      "    (2): BatchNorm1d(1024, eps=1e-05, momentum=0.1, affine=True, track_running_stats=True)\n",
      "    (3): Dropout(p=0.001, inplace=False)\n",
      "    (4): Linear(in_features=1024, out_features=512, bias=True)\n",
      "    (5): ReLU(inplace=True)\n",
      "    (6): BatchNorm1d(512, eps=1e-05, momentum=0.1, affine=True, track_running_stats=True)\n",
      "    (7): Dropout(p=0.01, inplace=False)\n",
      "    (8): Linear(in_features=512, out_features=1, bias=True)\n",
      "  )\n",
      ")\n"
     ]
    }
   ],
   "source": [
    "model = hybrid_tcn.HybridTCN(emb_szs, len(cont_vars), hidden_sizes=[1024, 512],\n",
    "                  emb_dropout = 0.1, dropout_prob = [0.001, .01], use_bn=True,\n",
    "                  cnn_input_size=1, num_kernels=32, kernel_size=2,\n",
    "                  cnn_num_blocks=7, cnn_output_size=30, cnn_dropout=0.2)\n",
    "print(model)"
   ]
  },
  {
   "cell_type": "code",
   "execution_count": 10,
   "metadata": {},
   "outputs": [
    {
     "name": "stderr",
     "output_type": "stream",
     "text": [
      "100%|██████████| 8732/8732 [03:22<00:00, 43.19it/s]\n"
     ]
    },
    {
     "name": "stdout",
     "output_type": "stream",
     "text": [
      "Epoch 1: training loss=0.03253\n"
     ]
    },
    {
     "name": "stderr",
     "output_type": "stream",
     "text": [
      "  0%|          | 3/8732 [00:00<04:59, 29.12it/s]"
     ]
    },
    {
     "name": "stdout",
     "output_type": "stream",
     "text": [
      "Epoch 1: val loss=0.00265\n"
     ]
    },
    {
     "name": "stderr",
     "output_type": "stream",
     "text": [
      "100%|██████████| 8732/8732 [03:23<00:00, 42.91it/s]\n"
     ]
    },
    {
     "name": "stdout",
     "output_type": "stream",
     "text": [
      "Epoch 2: training loss=0.00689\n"
     ]
    },
    {
     "name": "stderr",
     "output_type": "stream",
     "text": [
      "  0%|          | 3/8732 [00:00<06:03, 24.01it/s]"
     ]
    },
    {
     "name": "stdout",
     "output_type": "stream",
     "text": [
      "Epoch 2: val loss=0.00154\n"
     ]
    },
    {
     "name": "stderr",
     "output_type": "stream",
     "text": [
      "100%|██████████| 8732/8732 [03:20<00:00, 43.57it/s]\n"
     ]
    },
    {
     "name": "stdout",
     "output_type": "stream",
     "text": [
      "Epoch 3: training loss=0.00330\n"
     ]
    },
    {
     "name": "stderr",
     "output_type": "stream",
     "text": [
      "  0%|          | 3/8732 [00:00<05:06, 28.52it/s]"
     ]
    },
    {
     "name": "stdout",
     "output_type": "stream",
     "text": [
      "Epoch 3: val loss=0.00070\n"
     ]
    },
    {
     "name": "stderr",
     "output_type": "stream",
     "text": [
      "100%|██████████| 8732/8732 [03:23<00:00, 42.92it/s]\n"
     ]
    },
    {
     "name": "stdout",
     "output_type": "stream",
     "text": [
      "Epoch 4: training loss=0.00221\n"
     ]
    },
    {
     "name": "stderr",
     "output_type": "stream",
     "text": [
      "  0%|          | 3/8732 [00:00<05:46, 25.17it/s]"
     ]
    },
    {
     "name": "stdout",
     "output_type": "stream",
     "text": [
      "Epoch 4: val loss=0.00102\n"
     ]
    },
    {
     "name": "stderr",
     "output_type": "stream",
     "text": [
      "100%|██████████| 8732/8732 [03:19<00:00, 43.68it/s]\n"
     ]
    },
    {
     "name": "stdout",
     "output_type": "stream",
     "text": [
      "Epoch 5: training loss=0.00185\n",
      "Epoch 5: val loss=0.00073\n"
     ]
    }
   ],
   "source": [
    "hybrid_tcn.train_model(model, train_dl, val_dl, n_epochs=5, lr=1e-4)"
   ]
  },
  {
   "cell_type": "code",
   "execution_count": 23,
   "metadata": {},
   "outputs": [
    {
     "name": "stderr",
     "output_type": "stream",
     "text": [
      "100%|██████████| 59/59 [00:10<00:00,  5.67it/s]"
     ]
    },
    {
     "name": "stdout",
     "output_type": "stream",
     "text": [
      "Epoch 1: training loss=0.00106\n"
     ]
    },
    {
     "name": "stderr",
     "output_type": "stream",
     "text": [
      "\n"
     ]
    }
   ],
   "source": [
    "hybrid_tcn.train_model(model, val_dl, n_epochs=1, lr=1e-4)"
   ]
  },
  {
   "cell_type": "code",
   "execution_count": 40,
   "metadata": {},
   "outputs": [
    {
     "name": "stderr",
     "output_type": "stream",
     "text": [
      "100%|██████████| 118/118 [00:02<00:00, 56.33it/s]\n"
     ]
    }
   ],
   "source": [
    "# train_preds, train_targets = hybrid_tcn.predict(model, train_ds, 512)\n",
    "test_preds, test_targets = hybrid_tcn.predict(model, test_ds, 512)"
   ]
  },
  {
   "cell_type": "code",
   "execution_count": 44,
   "metadata": {},
   "outputs": [
    {
     "data": {
      "text/html": [
       "<div>\n",
       "<style scoped>\n",
       "    .dataframe tbody tr th:only-of-type {\n",
       "        vertical-align: middle;\n",
       "    }\n",
       "\n",
       "    .dataframe tbody tr th {\n",
       "        vertical-align: top;\n",
       "    }\n",
       "\n",
       "    .dataframe thead th {\n",
       "        text-align: right;\n",
       "    }\n",
       "</style>\n",
       "<table border=\"1\" class=\"dataframe\">\n",
       "  <thead>\n",
       "    <tr style=\"text-align: right;\">\n",
       "      <th></th>\n",
       "      <th>Date</th>\n",
       "      <th>ticker</th>\n",
       "      <th>target_price</th>\n",
       "      <th>cs2v_pred</th>\n",
       "    </tr>\n",
       "  </thead>\n",
       "  <tbody>\n",
       "    <tr>\n",
       "      <th>60407</th>\n",
       "      <td>2020-02-07</td>\n",
       "      <td>ZTS</td>\n",
       "      <td>0.977593</td>\n",
       "      <td>0.953009</td>\n",
       "    </tr>\n",
       "    <tr>\n",
       "      <th>60408</th>\n",
       "      <td>2020-02-10</td>\n",
       "      <td>ZTS</td>\n",
       "      <td>0.991468</td>\n",
       "      <td>0.980636</td>\n",
       "    </tr>\n",
       "    <tr>\n",
       "      <th>60409</th>\n",
       "      <td>2020-02-11</td>\n",
       "      <td>ZTS</td>\n",
       "      <td>0.981624</td>\n",
       "      <td>0.984930</td>\n",
       "    </tr>\n",
       "    <tr>\n",
       "      <th>60410</th>\n",
       "      <td>2020-02-12</td>\n",
       "      <td>ZTS</td>\n",
       "      <td>1.000000</td>\n",
       "      <td>0.987786</td>\n",
       "    </tr>\n",
       "    <tr>\n",
       "      <th>60411</th>\n",
       "      <td>2020-02-13</td>\n",
       "      <td>ZTS</td>\n",
       "      <td>0.992781</td>\n",
       "      <td>0.990737</td>\n",
       "    </tr>\n",
       "  </tbody>\n",
       "</table>\n",
       "</div>"
      ],
      "text/plain": [
       "            Date ticker  target_price  cs2v_pred\n",
       "60407 2020-02-07    ZTS      0.977593   0.953009\n",
       "60408 2020-02-10    ZTS      0.991468   0.980636\n",
       "60409 2020-02-11    ZTS      0.981624   0.984930\n",
       "60410 2020-02-12    ZTS      1.000000   0.987786\n",
       "60411 2020-02-13    ZTS      0.992781   0.990737"
      ]
     },
     "execution_count": 44,
     "metadata": {},
     "output_type": "execute_result"
    }
   ],
   "source": [
    "df_pred_test = pd.DataFrame(datetickerTest, columns=['Date', 'ticker'])\n",
    "df_pred_test['target_price'] = test_targets\n",
    "df_pred_test['cs2v_pred'] = test_preds\n",
    "\n",
    "df_pred_test.to_csv('Results/tcn_s2v_test_preds.csv', index=False)\n",
    "df_pred_test.tail()"
   ]
  },
  {
   "cell_type": "code",
   "execution_count": 45,
   "metadata": {},
   "outputs": [
    {
     "data": {
      "image/png": "[encoded data removed]",
      "text/plain": [
       "<Figure size 1440x576 with 1 Axes>"
      ]
     },
     "metadata": {},
     "output_type": "display_data"
    }
   ],
   "source": [
    "df_pred_test = pd.DataFrame(datetickerTest, columns=['Date', 'ticker'])\n",
    "df_pred_test['target_price'] = test_targets\n",
    "df_pred_test['pred'] = test_preds\n",
    "# df_pred_test.head()\n",
    "\n",
    "ticker = 'AMZN'\n",
    "idx = df_pred_test[df_pred_test.ticker==ticker].index\n",
    "y_plot_pred = df_pred_test.iloc[idx]['pred'].values\n",
    "y_plot_real = df_pred_test.iloc[idx]['target_price'].values\n",
    "\n",
    "n = len(y_plot_real)\n",
    "fig, ax = plt.subplots(1,1, figsize=(20,8))\n",
    "x_plot = np.arange(n)\n",
    "plt.plot(x_plot, y_plot_real, color=\"green\")\n",
    "plt.scatter(x_plot, y_plot_real, c=\"green\", label=\"Real\")\n",
    "plt.plot(x_plot, y_plot_pred, color=\"red\")\n",
    "plt.scatter(x_plot, y_plot_pred, c=\"red\", label=\"Prediction\")\n",
    "plt.title(\"Real vs Prediction\")\n",
    "plt.xlabel(\"Time\")\n",
    "plt.ylabel(\"Price $\")\n",
    "plt.legend()\n",
    "plt.show()"
   ]
  }
 ],
 "metadata": {
  "kernelspec": {
   "display_name": "Python 3",
   "language": "python",
   "name": "python3"
  },
  "language_info": {
   "codemirror_mode": {
    "name": "ipython",
    "version": 3
   },
   "file_extension": ".py",
   "mimetype": "text/x-python",
   "name": "python",
   "nbconvert_exporter": "python",
   "pygments_lexer": "ipython3",
   "version": "3.6.10"
  }
 },
 "nbformat": 4,
 "nbformat_minor": 4
}
